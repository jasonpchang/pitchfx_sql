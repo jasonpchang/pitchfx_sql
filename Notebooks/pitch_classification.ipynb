{
 "cells": [
  {
   "cell_type": "markdown",
   "metadata": {},
   "source": [
    "# Classification of pitches"
   ]
  },
  {
   "cell_type": "markdown",
   "metadata": {},
   "source": [
    "The goal here is to classify the types of pitches thrown by a given pitcher. Though the pitchfx data comes with pitch classfications, it is known to not be very reliable (\"It is accurate enough for most work that involves differentiating between fastballs and off-speed pitches\"--Fast, \"What the heck is PitchFX?\"). Additionally, clustering is a relatively simple task to perform with PitchFX and has a good chance to be able to separate pitches.\n",
    "\n",
    "To start, we will link the relevant libraries."
   ]
  },
  {
   "cell_type": "code",
   "execution_count": 1,
   "metadata": {
    "collapsed": false
   },
   "outputs": [],
   "source": [
    "# imports\n",
    "from IPython.display import display\n",
    "import numpy as np\n",
    "import pandas as pd\n",
    "import sqlite3\n",
    "import subprocess"
   ]
  },
  {
   "cell_type": "markdown",
   "metadata": {},
   "source": [
    "Now, let's specificy the database name and path, then connect to the database."
   ]
  },
  {
   "cell_type": "code",
   "execution_count": 3,
   "metadata": {
    "collapsed": true
   },
   "outputs": [],
   "source": [
    "# specify database name\n",
    "dbname = \"../dat/pitchfx2008.db\"\n",
    "\n",
    "# connect to the sqlite3 database\n",
    "db = sqlite3.connect(dbname)\n",
    "hdb = db.cursor()"
   ]
  },
  {
   "cell_type": "markdown",
   "metadata": {},
   "source": [
    "For our classification, we will choose one pitcher. Let's choose 'Barry Zito', who is known for the break of his curveball and a below-average fastball. He clearly got paid for his curveball and not his fastball...\n",
    "\n",
    "Let's first figure out the games Barry Zito has pitched in (printing out the first 5 games)."
   ]
  },
  {
   "cell_type": "code",
   "execution_count": 17,
   "metadata": {
    "collapsed": false
   },
   "outputs": [
    {
     "data": {
      "text/html": [
       "<div>\n",
       "<table border=\"1\" class=\"dataframe\">\n",
       "  <thead>\n",
       "    <tr style=\"text-align: right;\">\n",
       "      <th></th>\n",
       "      <th>game_id</th>\n",
       "    </tr>\n",
       "  </thead>\n",
       "  <tbody>\n",
       "    <tr>\n",
       "      <th>0</th>\n",
       "      <td>233769</td>\n",
       "    </tr>\n",
       "    <tr>\n",
       "      <th>1</th>\n",
       "      <td>233847</td>\n",
       "    </tr>\n",
       "    <tr>\n",
       "      <th>2</th>\n",
       "      <td>233914</td>\n",
       "    </tr>\n",
       "    <tr>\n",
       "      <th>3</th>\n",
       "      <td>233970</td>\n",
       "    </tr>\n",
       "    <tr>\n",
       "      <th>4</th>\n",
       "      <td>234063</td>\n",
       "    </tr>\n",
       "  </tbody>\n",
       "</table>\n",
       "</div>"
      ],
      "text/plain": [
       "   game_id\n",
       "0   233769\n",
       "1   233847\n",
       "2   233914\n",
       "3   233970\n",
       "4   234063"
      ]
     },
     "execution_count": 17,
     "metadata": {},
     "output_type": "execute_result"
    }
   ],
   "source": [
    "# find all games that Barry Zito has thrown in\n",
    "query = \"\"\"SELECT DISTINCT game_id\n",
    "   FROM events\n",
    "   WHERE pitcher_id=(SELECT player_id\n",
    "       FROM players\n",
    "       WHERE player_first='Barry'\n",
    "            AND player_last='Zito')\"\"\"\n",
    "df = pd.read_sql_query(query, db)\n",
    "df.head()"
   ]
  },
  {
   "cell_type": "markdown",
   "metadata": {},
   "source": [
    "Let's choose a random game to analyze and grab that game id. We'll use numpys *random* module to pick a random game."
   ]
  },
  {
   "cell_type": "code",
   "execution_count": 54,
   "metadata": {
    "collapsed": false
   },
   "outputs": [
    {
     "name": "stdout",
     "output_type": "stream",
     "text": [
      "234715\n"
     ]
    }
   ],
   "source": [
    "# grab relevant parameters\n",
    "ngames = len(df) # number of games\n",
    "\n",
    "# select random game\n",
    "np.random.seed(0) # set seed\n",
    "igame = np.random.randint(low=0, high=ngames) # choose random index\n",
    "id_game = df.iloc[igame]['game_id'] # grab game id given index"
   ]
  },
  {
   "cell_type": "markdown",
   "metadata": {},
   "source": [
    "Next, let's grab the pitches thrown by Barry Zito that game. Note that we will not worry about sorting the pitches by pitch number since we are just clustering pitches. Additionally, the pitchfx database does not have the pitcher id stored. Instead, we have to link the pitchfx table to the events table to get player id information. We'll print out the first five pitches."
   ]
  },
  {
   "cell_type": "code",
   "execution_count": 56,
   "metadata": {
    "collapsed": false
   },
   "outputs": [
    {
     "data": {
      "text/html": [
       "<div>\n",
       "<table border=\"1\" class=\"dataframe\">\n",
       "  <thead>\n",
       "    <tr style=\"text-align: right;\">\n",
       "      <th></th>\n",
       "      <th>game_id</th>\n",
       "      <th>pitch_num</th>\n",
       "      <th>at_bat</th>\n",
       "      <th>time</th>\n",
       "      <th>prev_event</th>\n",
       "      <th>description</th>\n",
       "      <th>outcome</th>\n",
       "      <th>pre_balls</th>\n",
       "      <th>post_balls</th>\n",
       "      <th>pre_strike</th>\n",
       "      <th>...</th>\n",
       "      <th>vz0</th>\n",
       "      <th>ax</th>\n",
       "      <th>ay</th>\n",
       "      <th>az</th>\n",
       "      <th>break_y</th>\n",
       "      <th>break_angle</th>\n",
       "      <th>break_length</th>\n",
       "      <th>spin_dir</th>\n",
       "      <th>spin_rate</th>\n",
       "      <th>pitch_type</th>\n",
       "    </tr>\n",
       "  </thead>\n",
       "  <tbody>\n",
       "    <tr>\n",
       "      <th>0</th>\n",
       "      <td>233769</td>\n",
       "      <td>30</td>\n",
       "      <td>4</td>\n",
       "      <td>134206.0</td>\n",
       "      <td>7</td>\n",
       "      <td>Ball</td>\n",
       "      <td>B</td>\n",
       "      <td>0</td>\n",
       "      <td>1</td>\n",
       "      <td>0</td>\n",
       "      <td>...</td>\n",
       "      <td>-4.167</td>\n",
       "      <td>-4.395</td>\n",
       "      <td>28.973</td>\n",
       "      <td>-13.125</td>\n",
       "      <td>23.7</td>\n",
       "      <td>16.5</td>\n",
       "      <td>3.9</td>\n",
       "      <td>192.990</td>\n",
       "      <td>2278.601</td>\n",
       "      <td>FC</td>\n",
       "    </tr>\n",
       "    <tr>\n",
       "      <th>1</th>\n",
       "      <td>233769</td>\n",
       "      <td>31</td>\n",
       "      <td>4</td>\n",
       "      <td>134217.0</td>\n",
       "      <td>7</td>\n",
       "      <td>Called Strike</td>\n",
       "      <td>S</td>\n",
       "      <td>1</td>\n",
       "      <td>1</td>\n",
       "      <td>0</td>\n",
       "      <td>...</td>\n",
       "      <td>-7.852</td>\n",
       "      <td>-1.776</td>\n",
       "      <td>29.654</td>\n",
       "      <td>-9.818</td>\n",
       "      <td>23.7</td>\n",
       "      <td>8.9</td>\n",
       "      <td>3.2</td>\n",
       "      <td>184.540</td>\n",
       "      <td>2620.543</td>\n",
       "      <td>FF</td>\n",
       "    </tr>\n",
       "    <tr>\n",
       "      <th>2</th>\n",
       "      <td>233769</td>\n",
       "      <td>32</td>\n",
       "      <td>4</td>\n",
       "      <td>134228.0</td>\n",
       "      <td>7</td>\n",
       "      <td>Foul</td>\n",
       "      <td>S</td>\n",
       "      <td>1</td>\n",
       "      <td>1</td>\n",
       "      <td>1</td>\n",
       "      <td>...</td>\n",
       "      <td>-2.479</td>\n",
       "      <td>3.593</td>\n",
       "      <td>22.606</td>\n",
       "      <td>-23.886</td>\n",
       "      <td>23.7</td>\n",
       "      <td>-8.3</td>\n",
       "      <td>9.2</td>\n",
       "      <td>156.564</td>\n",
       "      <td>1243.876</td>\n",
       "      <td>CH</td>\n",
       "    </tr>\n",
       "    <tr>\n",
       "      <th>3</th>\n",
       "      <td>233769</td>\n",
       "      <td>33</td>\n",
       "      <td>4</td>\n",
       "      <td>134247.0</td>\n",
       "      <td>7</td>\n",
       "      <td>In play, no out</td>\n",
       "      <td>X</td>\n",
       "      <td>1</td>\n",
       "      <td>1</td>\n",
       "      <td>2</td>\n",
       "      <td>...</td>\n",
       "      <td>-5.803</td>\n",
       "      <td>-1.431</td>\n",
       "      <td>30.550</td>\n",
       "      <td>-8.798</td>\n",
       "      <td>23.7</td>\n",
       "      <td>12.1</td>\n",
       "      <td>2.8</td>\n",
       "      <td>183.501</td>\n",
       "      <td>2732.740</td>\n",
       "      <td>FF</td>\n",
       "    </tr>\n",
       "    <tr>\n",
       "      <th>4</th>\n",
       "      <td>233769</td>\n",
       "      <td>37</td>\n",
       "      <td>5</td>\n",
       "      <td>134336.0</td>\n",
       "      <td>8</td>\n",
       "      <td>Ball</td>\n",
       "      <td>B</td>\n",
       "      <td>0</td>\n",
       "      <td>1</td>\n",
       "      <td>0</td>\n",
       "      <td>...</td>\n",
       "      <td>-2.421</td>\n",
       "      <td>-3.625</td>\n",
       "      <td>31.828</td>\n",
       "      <td>-12.756</td>\n",
       "      <td>23.6</td>\n",
       "      <td>18.5</td>\n",
       "      <td>3.8</td>\n",
       "      <td>190.573</td>\n",
       "      <td>2300.700</td>\n",
       "      <td>FF</td>\n",
       "    </tr>\n",
       "  </tbody>\n",
       "</table>\n",
       "<p>5 rows × 36 columns</p>\n",
       "</div>"
      ],
      "text/plain": [
       "   game_id  pitch_num  at_bat      time  prev_event      description outcome  \\\n",
       "0   233769         30       4  134206.0           7             Ball       B   \n",
       "1   233769         31       4  134217.0           7    Called Strike       S   \n",
       "2   233769         32       4  134228.0           7             Foul       S   \n",
       "3   233769         33       4  134247.0           7  In play, no out       X   \n",
       "4   233769         37       5  134336.0           8             Ball       B   \n",
       "\n",
       "   pre_balls  post_balls  pre_strike     ...        vz0     ax      ay  \\\n",
       "0          0           1           0     ...     -4.167 -4.395  28.973   \n",
       "1          1           1           0     ...     -7.852 -1.776  29.654   \n",
       "2          1           1           1     ...     -2.479  3.593  22.606   \n",
       "3          1           1           2     ...     -5.803 -1.431  30.550   \n",
       "4          0           1           0     ...     -2.421 -3.625  31.828   \n",
       "\n",
       "       az  break_y  break_angle  break_length  spin_dir  spin_rate  pitch_type  \n",
       "0 -13.125     23.7         16.5           3.9   192.990   2278.601          FC  \n",
       "1  -9.818     23.7          8.9           3.2   184.540   2620.543          FF  \n",
       "2 -23.886     23.7         -8.3           9.2   156.564   1243.876          CH  \n",
       "3  -8.798     23.7         12.1           2.8   183.501   2732.740          FF  \n",
       "4 -12.756     23.6         18.5           3.8   190.573   2300.700          FF  \n",
       "\n",
       "[5 rows x 36 columns]"
      ]
     },
     "execution_count": 56,
     "metadata": {},
     "output_type": "execute_result"
    }
   ],
   "source": [
    "query = \"\"\"SELECT DISTINCT pitchfx.* \n",
    "    FROM pitchfx\n",
    "    JOIN events ON (pitchfx.game_id=events.game_id\n",
    "        AND pitchfx.prev_event=events.event_id)\n",
    "    WHERE events.pitcher_id=(SELECT player_id\n",
    "        FROM players\n",
    "        WHERE players.player_first='Barry'\n",
    "            AND players.player_last='Zito')\n",
    "    ORDER BY game_id, pitch_num\"\"\"\n",
    "df = pd.read_sql_query(query, db)\n",
    "df.head()"
   ]
  },
  {
   "cell_type": "markdown",
   "metadata": {},
   "source": [
    "Now, let's look look at some of the features we would be interested using our intuition. We'll first list all the pichfx parameters to try to get a sense of what we have to work with."
   ]
  },
  {
   "cell_type": "code",
   "execution_count": 63,
   "metadata": {
    "collapsed": false
   },
   "outputs": [
    {
     "name": "stdout",
     "output_type": "stream",
     "text": [
      "game_id\n",
      "pitch_num\n",
      "at_bat\n",
      "time\n",
      "prev_event\n",
      "description\n",
      "outcome\n",
      "pre_balls\n",
      "post_balls\n",
      "pre_strike\n",
      "post_strike\n",
      "start_speed\n",
      "end_speed\n",
      "sz_top\n",
      "sz_bot\n",
      "pfx_x\n",
      "pfx_z\n",
      "px\n",
      "pz\n",
      "x\n",
      "y\n",
      "x0\n",
      "y0\n",
      "z0\n",
      "vx0\n",
      "vy0\n",
      "vz0\n",
      "ax\n",
      "ay\n",
      "az\n",
      "break_y\n",
      "break_angle\n",
      "break_length\n",
      "spin_dir\n",
      "spin_rate\n",
      "pitch_type\n"
     ]
    }
   ],
   "source": [
    "exe = \"\"\"PRAGMA table_info(pitchfx)\"\"\"\n",
    "hdb.execute(exe)\n",
    "print(*[ii[1] for ii in hdb.fetchall()], sep=\"\\n\")"
   ]
  },
  {
   "cell_type": "markdown",
   "metadata": {},
   "source": [
    "A description of the pitch variables can be found here: https://fastballs.wordpress.com/category/pitchfx-glossary/. The most obvious features to use are anything that have to do with the trajectory of the ball. This includes "
   ]
  },
  {
   "cell_type": "markdown",
   "metadata": {},
   "source": [
    "Additionally, we will also focus only on one game for now. This is because the PitchFX system can vary from stadium to stadium, day to day (Fast, \"What the heck is PitchFX?\"). By focusing on one game, the same errors are applied to every pitch thrown that game. (Note that calibration of PitchFX data for all games is a step that should be taken in order to compare pitches from game to game)."
   ]
  }
 ],
 "metadata": {
  "kernelspec": {
   "display_name": "Python 3",
   "language": "python",
   "name": "python3"
  },
  "language_info": {
   "codemirror_mode": {
    "name": "ipython",
    "version": 3
   },
   "file_extension": ".py",
   "mimetype": "text/x-python",
   "name": "python",
   "nbconvert_exporter": "python",
   "pygments_lexer": "ipython3",
   "version": "3.5.2"
  }
 },
 "nbformat": 4,
 "nbformat_minor": 2
}
