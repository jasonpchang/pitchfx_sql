{
 "cells": [
  {
   "cell_type": "markdown",
   "metadata": {},
   "source": [
    "# Swing prediction: models"
   ]
  },
  {
   "cell_type": "markdown",
   "metadata": {},
   "source": [
    "Predicting when a batter is more likely to swing can be useful for a pitcher. For instance, it can be useful to determine how likely a batter will swing on a full count. If he is inclined to swing, then the batter could be suceptible to chasing pitches out of the strike zone. Here, I'll look to predict when a batter will swing the bat using features examined in the *swing_prediction_eda* notebook."
   ]
  },
  {
   "cell_type": "code",
   "execution_count": 1,
   "metadata": {
    "collapsed": false
   },
   "outputs": [],
   "source": [
    "# imports\n",
    "from IPython.display import display\n",
    "import matplotlib.pyplot as plt\n",
    "import numpy as np\n",
    "import pandas as pd\n",
    "import seaborn as sns\n",
    "import sqlite3\n",
    "import subprocess\n",
    "%matplotlib inline"
   ]
  },
  {
   "cell_type": "markdown",
   "metadata": {},
   "source": [
    "## Approach"
   ]
  },
  {
   "cell_type": "markdown",
   "metadata": {},
   "source": [
    "I'll look at a variety of models for binary classification, specifically logistic regression, support vector machines, and random forest. I'll use features related to pitch trajectory/location and game situation, as examined in the *swing_prediction_eda* notebook. I'll focus on making a model for one player, specifically Jack Cust. The techniques examined here can be applied to other individual batters."
   ]
  },
  {
   "cell_type": "markdown",
   "metadata": {},
   "source": [
    "## Loading data and creating the response"
   ]
  },
  {
   "cell_type": "markdown",
   "metadata": {},
   "source": [
    "I'll start by loading information from where a given batter is hitting. For these tests, I'll start with Jack Cust, who was known for three things: hitting home runs, walks, and striking out. I'll create the response (swing or no swing) as well."
   ]
  },
  {
   "cell_type": "code",
   "execution_count": 2,
   "metadata": {
    "collapsed": true
   },
   "outputs": [],
   "source": [
    "# specify database name\n",
    "dbname = \"../dat/pitchfx2008.db\"\n",
    "\n",
    "# connect to the sqlite3 database\n",
    "db = sqlite3.connect(dbname)\n",
    "hdb = db.cursor()"
   ]
  },
  {
   "cell_type": "code",
   "execution_count": 88,
   "metadata": {
    "collapsed": false
   },
   "outputs": [],
   "source": [
    "# import classes\n",
    "sys.path.append('../src')\n",
    "from Player import Player\n",
    "\n",
    "# create player object\n",
    "jc = Player(\"Jack Cust\", db)\n",
    "\n",
    "# grab pitches\n",
    "jc_pitches = jc.pitches_against(clean=1).reset_index(drop=False)\n",
    "# grab events\n",
    "jc_events = jc.hit_events()\n",
    "# grab games\n",
    "jc_games = jc.hit_games()\n",
    "# grab player table\n",
    "query = \"\"\"SELECT *\n",
    "        FROM players\"\"\"\n",
    "players = pd.read_sql_query(query, db)"
   ]
  },
  {
   "cell_type": "code",
   "execution_count": 104,
   "metadata": {
    "collapsed": false
   },
   "outputs": [],
   "source": [
    "# list of swing outcomes\n",
    "swings = ['Swinging Strike',\n",
    "          'In play, out(s)',\n",
    "          'In play, no out',\n",
    "          'In play, run(s)',\n",
    "          'Foul',\n",
    "          'Foul Tip',\n",
    "          'Foul (Runner Going)',\n",
    "          'Swinging Strike (Blocked)']\n",
    "\n",
    "# create feature of swings in pitches\n",
    "jc_pitches['swing'] = np.array(list(map(lambda x: x in swings, jc_pitches['description'])))"
   ]
  },
  {
   "cell_type": "code",
   "execution_count": 105,
   "metadata": {
    "collapsed": false
   },
   "outputs": [
    {
     "name": "stdout",
     "output_type": "stream",
     "text": [
      "percentage of pitches swung at:  0.381352541016\n"
     ]
    }
   ],
   "source": [
    "# percentage of swings\n",
    "print(\"percentage of pitches swung at: \", np.mean(jc_pitches['swing']))"
   ]
  },
  {
   "cell_type": "markdown",
   "metadata": {},
   "source": [
    "Cust swings at less than half the pitches he sees. Specifically, he swings at 38% of the pitches he sees, which could be the baseline error rate for this problem."
   ]
  },
  {
   "cell_type": "markdown",
   "metadata": {},
   "source": [
    "## Feature engineering"
   ]
  },
  {
   "cell_type": "markdown",
   "metadata": {},
   "source": [
    "To create the initial feature matrix, I will include all columns of data from the dataset, organized by pitch. Thus, I'll need to join multiple tables related to games, events, players, and pitchfx."
   ]
  },
  {
   "cell_type": "code",
   "execution_count": 122,
   "metadata": {
    "collapsed": false
   },
   "outputs": [
    {
     "name": "stdout",
     "output_type": "stream",
     "text": [
      "Index(['index', 'game_id', 'pitch_num', 'at_bat', 'time', 'cur_event',\n",
      "       'description', 'outcome', 'pre_balls', 'post_balls', 'pre_strike',\n",
      "       'post_strike', 'start_speed', 'end_speed', 'sz_top', 'sz_bot', 'pfx_x',\n",
      "       'pfx_z', 'px', 'pz', 'x', 'y', 'x0', 'y0', 'z0', 'vx0', 'vy0', 'vz0',\n",
      "       'ax', 'ay', 'az', 'break_y', 'break_angle', 'break_length', 'spin_dir',\n",
      "       'spin_rate', 'pitch_type', 'swing', 'event_id', 'event_description',\n",
      "       'inning', 'is_top_inning', 'pre_out', 'post_out', 'pitcher_id',\n",
      "       'batter_id', 'pre_1b', 'post_1b', 'pre_2b', 'post_2b', 'pre_3b',\n",
      "       'post_3b', 'post_home', 'pre_home_score', 'post_home_score',\n",
      "       'pre_away_score', 'post_away_score', 'game_type', 'date', 'game_time',\n",
      "       'home_id', 'home_wins', 'home_losses', 'visit_id', 'visit_wins',\n",
      "       'visit_losses', 'stadium_id', 'umpire_home', 'umpire_first',\n",
      "       'umpire_second', 'umpire_third', 'player_id', 'throws'],\n",
      "      dtype='object')\n"
     ]
    }
   ],
   "source": [
    "# join four tables\n",
    "features = jc_pitches.merge(jc_events,\n",
    "                     left_on=['game_id', 'cur_event'],\n",
    "                     right_on=['game_id', 'event_id'],\n",
    "                     how='left',) \\\n",
    "              .merge(jc_games,\n",
    "                     left_on=['game_id'],\n",
    "                     right_on=['game_id'],\n",
    "                     how='left',) \\\n",
    "              .merge(players[['player_id', 'throws']].drop_duplicates(),\n",
    "                     left_on=['pitcher_id'],\n",
    "                     right_on=['player_id'],\n",
    "                     how='left',) \\\n",
    "              .sort_values(by=['game_id', 'cur_event'])\n",
    "\n",
    "# print column names\n",
    "print(features.columns)"
   ]
  },
  {
   "cell_type": "markdown",
   "metadata": {},
   "source": [
    "While there are many features, I am currently only interested in those related to pitch trajectory/location and game situation. There are a number of features that are very unlikely to help predict whether a batter swings at a pitch or not. For instance, any features related to bookkeeping could be dropped, such as game ids and event ids. Additionally, features related to future events relative to the situation in question (e.g., final score of the game) should be removed.\n",
    "\n",
    "There are also features that identify people/things that I will drop (such as umpire ids and stadium ids), as expressing these categorical variables through approaches like one-hot encoding can greatly increase the number of features. While this information could be useful, the sample sizes of each category of these features is likely small for each batter."
   ]
  },
  {
   "cell_type": "code",
   "execution_count": 123,
   "metadata": {
    "collapsed": false
   },
   "outputs": [],
   "source": [
    "# drop columns\n",
    "dropped_indices = ['index', 'game_id', 'cur_event', 'outcome', 'post_balls', 'post_strike', 'sz_top', 'sz_bot',\n",
    "                   'y0', 'event_id', 'description', 'event_description', 'post_1b', 'post_2b', 'post_3b', 'post_home',\n",
    "                   'post_home_score', 'post_away_score', 'game_type', 'game_time', 'home_id', 'visit_id', 'umpire_home',\n",
    "                   'umpire_first', 'umpire_second', 'umpire_third', 'player_id', 'post_out', 'batter_id', 'pitch_type',\n",
    "                   'date', 'stadium_id', 'home_wins', 'home_losses', 'visit_wins', 'visit_losses', 'pitcher_id',\n",
    "                   'at_bat', 'pitch_num']\n",
    "\n",
    "features = features.drop(dropped_indices, axis=1)"
   ]
  },
  {
   "cell_type": "markdown",
   "metadata": {},
   "source": [
    "I'll adjust pitcher handedness to be binary variable rather than a categorical swing variable, as *sklearn's* packages expect all columns to be numerical values."
   ]
  },
  {
   "cell_type": "code",
   "execution_count": 124,
   "metadata": {
    "collapsed": false
   },
   "outputs": [],
   "source": [
    "# pitcher handedness (0: left, 1: right)\n",
    "features['throws'].replace(['L', 'R'], [0, 1], inplace=True)"
   ]
  },
  {
   "cell_type": "markdown",
   "metadata": {},
   "source": [
    "In addition to these features, I'll engineer features that describe the previous pitch and the outcome. In addition to using the raw shifted pitch trajectory/location information, I will calculate the difference in those values relative to the current pitch; in other words, I will calculate the gradient. I will also include whether the batter swung at the previous pitch or not. Note this is trickier than just shifting the rows in our feature matrix down, as I had previously removed pitches that were Nans. As a result, a number of pitches are not actually in sequence (beside those that were from the previous at bat or even previous game). Therefore, I'll return to the original pitch information. Note I will fill in missing values with the mean of the values for that feature (or assume no swing for the swing feature)."
   ]
  },
  {
   "cell_type": "code",
   "execution_count": 125,
   "metadata": {
    "collapsed": false
   },
   "outputs": [],
   "source": [
    "# pitch information to calculate gradients of\n",
    "grad_f = ['start_speed', 'end_speed', 'pfx_x', 'pfx_z', 'px', 'pz', 'x', 'y', 'x0', 'z0', 'vx0',\n",
    "          'vy0', 'vz0', 'ax', 'ay', 'az', 'break_y', 'break_angle', 'break_length', 'spin_dir', 'spin_rate']\n",
    "for ff in grad_f:\n",
    "    features['grad_%s' %(ff)] = -features[ff].diff(1)\n",
    "for ff in grad_f:\n",
    "    features['prev_%s' %(ff)] = features[ff].shift(1)\n",
    "    \n",
    "# get previous pitch swing information\n",
    "features['prev_swing'] = features['swing'].shift(1)\n",
    "features['prev_swing'] = features['prev_swing'].fillna(False)\n",
    "    \n",
    "# impute nans with column means\n",
    "features = features.fillna(features.mean())"
   ]
  },
  {
   "cell_type": "markdown",
   "metadata": {},
   "source": [
    "I'll also include score differential and ball-strike count differential at the time of the pitch, even though they are linear combinations of existing features."
   ]
  },
  {
   "cell_type": "code",
   "execution_count": 126,
   "metadata": {
    "collapsed": true
   },
   "outputs": [],
   "source": [
    "# score differential (relative to batter's team)\n",
    "score_diff = features['pre_home_score']-features['pre_away_score']\n",
    "score_diff[features['is_top_inning']==True] = -score_diff[features['is_top_inning']==True]\n",
    "features['score_diff'] = score_diff\n",
    "\n",
    "# ball-strike differential\n",
    "features['count_diff'] = features['pre_balls']-features['pre_strike']"
   ]
  },
  {
   "cell_type": "code",
   "execution_count": 127,
   "metadata": {
    "collapsed": false
   },
   "outputs": [
    {
     "name": "stdout",
     "output_type": "stream",
     "text": [
      "Index(['time', 'pre_balls', 'pre_strike', 'start_speed', 'end_speed', 'pfx_x',\n",
      "       'pfx_z', 'px', 'pz', 'x', 'y', 'x0', 'z0', 'vx0', 'vy0', 'vz0', 'ax',\n",
      "       'ay', 'az', 'break_y', 'break_angle', 'break_length', 'spin_dir',\n",
      "       'spin_rate', 'swing', 'inning', 'is_top_inning', 'pre_out', 'pre_1b',\n",
      "       'pre_2b', 'pre_3b', 'pre_home_score', 'pre_away_score', 'throws',\n",
      "       'grad_start_speed', 'grad_end_speed', 'grad_pfx_x', 'grad_pfx_z',\n",
      "       'grad_px', 'grad_pz', 'grad_x', 'grad_y', 'grad_x0', 'grad_z0',\n",
      "       'grad_vx0', 'grad_vy0', 'grad_vz0', 'grad_ax', 'grad_ay', 'grad_az',\n",
      "       'grad_break_y', 'grad_break_angle', 'grad_break_length',\n",
      "       'grad_spin_dir', 'grad_spin_rate', 'prev_start_speed', 'prev_end_speed',\n",
      "       'prev_pfx_x', 'prev_pfx_z', 'prev_px', 'prev_pz', 'prev_x', 'prev_y',\n",
      "       'prev_x0', 'prev_z0', 'prev_vx0', 'prev_vy0', 'prev_vz0', 'prev_ax',\n",
      "       'prev_ay', 'prev_az', 'prev_break_y', 'prev_break_angle',\n",
      "       'prev_break_length', 'prev_spin_dir', 'prev_spin_rate', 'prev_swing',\n",
      "       'score_diff', 'count_diff'],\n",
      "      dtype='object')\n"
     ]
    }
   ],
   "source": [
    "# print column names\n",
    "print(features.columns)"
   ]
  },
  {
   "cell_type": "markdown",
   "metadata": {},
   "source": [
    "I will use these features, which are representative of game situation, current pitch trajectory/location, and previous pitch trajectory/location, for my models."
   ]
  },
  {
   "cell_type": "markdown",
   "metadata": {},
   "source": [
    "## Random forest"
   ]
  },
  {
   "cell_type": "markdown",
   "metadata": {},
   "source": [
    "Random forest has the advantages that it can display both low bias and low variance if results from a large number of decision trees are averaged. Additionally, random forest has a track record of good performance, can handle both regression and classification problems, and can also rank features based on influence on the response. Some drawbacks are that this approach can take up a lot of memory if the size of the dataset and the number of trees is large, and the forests themselves are a bit of a black box in terms of interpretability."
   ]
  },
  {
   "cell_type": "code",
   "execution_count": null,
   "metadata": {
    "collapsed": true
   },
   "outputs": [],
   "source": [
    "# import\n",
    "import sys\n",
    "sys.path.append('../src')\n",
    "from split_data import split_data"
   ]
  },
  {
   "cell_type": "markdown",
   "metadata": {},
   "source": [
    "### All features"
   ]
  },
  {
   "cell_type": "markdown",
   "metadata": {},
   "source": [
    "I'll begin by using all features. The first step is to divide the dataset into a training set and a test set. Here, I will start by taking randomly taking 70% of the data to be the training set and the remaining 30% of the data to be the test set."
   ]
  },
  {
   "cell_type": "code",
   "execution_count": 128,
   "metadata": {
    "collapsed": false
   },
   "outputs": [],
   "source": [
    "# creating training and test sets\n",
    "y = features['swing'].astype('int')\n",
    "features = features.drop('swing', axis=1)\n",
    "X_train, X_test, y_train, y_test = split_data(features, y, 0.7, 0)"
   ]
  },
  {
   "cell_type": "markdown",
   "metadata": {},
   "source": [
    "I'll check the distribution of swings and not swings between the training and test sets to check if they're similar to the full training set. Note that these will also be the baseline errors (guessing a non-swing for every pitch)."
   ]
  },
  {
   "cell_type": "code",
   "execution_count": 129,
   "metadata": {
    "collapsed": false
   },
   "outputs": [
    {
     "name": "stdout",
     "output_type": "stream",
     "text": [
      "percentage of pitches swung at in training set:  0.383188405797\n",
      "percentage of pitches swung at in test set:  0.377260981912\n"
     ]
    }
   ],
   "source": [
    "# percentage of swings and not swings\n",
    "print(\"percentage of pitches swung at in training set: \", np.mean(y_train.values))\n",
    "print(\"percentage of pitches swung at in test set: \", np.mean(y_test.values))"
   ]
  },
  {
   "cell_type": "markdown",
   "metadata": {},
   "source": [
    "With the distribution of swings are similar between the two sets, I can perform random forest classification."
   ]
  },
  {
   "cell_type": "code",
   "execution_count": 130,
   "metadata": {
    "collapsed": false
   },
   "outputs": [],
   "source": [
    "# import\n",
    "from sklearn.ensemble import RandomForestClassifier\n",
    "\n",
    "# initialize parameters\n",
    "seed = 0\n",
    "nestimators = 1000\n",
    "\n",
    "# initialize classifiers\n",
    "rf1_fit = RandomForestClassifier(n_estimators=nestimators,\n",
    "                                 criterion='gini',\n",
    "                                 max_features='sqrt',\n",
    "                                 random_state=seed,\n",
    "                                 oob_score=True,).fit(X_train, y_train)"
   ]
  },
  {
   "cell_type": "markdown",
   "metadata": {},
   "source": [
    "For validating my model, I will look to examine the out-of-bag error, which is similar to cross-validation error. In random forest, a number of decision trees are built on bootstrapped data. Therefore, each tree is likely to leave out a subset of the training data. One can predict the reponse for each data point using results from trees where the data point was not used to build the tree (OOB). The final prediction for each data point is just the majority vote amongst total predictions (in the classification problem). I'll also provide the error on the test set."
   ]
  },
  {
   "cell_type": "code",
   "execution_count": null,
   "metadata": {
    "collapsed": true
   },
   "outputs": [],
   "source": [
    "# out-of-bag error\n",
    "print(\"out-of-bag error: \", 1-rf1_fit.oob_score_)\n",
    "\n",
    "# test error\n",
    "print(\"test error: \", 1-np.mean(rf1_fit.predict(X_test)==y_test))"
   ]
  },
  {
   "cell_type": "markdown",
   "metadata": {},
   "source": [
    "The errors are significantly lower than guessing a non-swing every pitch, which is a promising sign.\n",
    "\n",
    "I'll now take a look at the feature importance from the random forest model by adding up the total amount that the Gini index is decreased by splits over a given feature, averaged over all trees and normalized. I'll sort features by importance."
   ]
  },
  {
   "cell_type": "code",
   "execution_count": 142,
   "metadata": {
    "collapsed": false
   },
   "outputs": [
    {
     "data": {
      "image/png": "[encoded data removed]",
      "text/plain": [
       "<matplotlib.figure.Figure at 0x7f30c7feccf8>"
      ]
     },
     "metadata": {},
     "output_type": "display_data"
    }
   ],
   "source": [
    "# feature importance plot\n",
    "importance = pd.Series(rf1_fit.feature_importances_,\n",
    "                       index=X_train.columns)\n",
    "indices = np.argsort(importance)[::-1]\n",
    "importance[indices].plot.bar(color='blue', width=0.25, figsize=(16, 4))\n",
    "plt.show()"
   ]
  },
  {
   "cell_type": "markdown",
   "metadata": {},
   "source": [
    "As expected, the pitch location in the strike zone is relatively important (`px`, `pz`, `x`, `y`), as most batters are more likely to swing when the pitch is in the zone. The initial velocity and the difference in pitch location relative to the previous at-bat appear to be the next most important features.\n",
    "\n",
    "Note that random forest feature importance is biased towards features with more values/levels. This is observed here, where many of the binary features appear to have the least importance.\n",
    "\n",
    "Overall, many features appear to have similar importance (outside of the pitch location and the initial velocities out of the hand). Therefore, I'll look to remove some features to reduce noise in the data set, which in turn may improve the model."
   ]
  },
  {
   "cell_type": "markdown",
   "metadata": {},
   "source": [
    "### Add situational features"
   ]
  },
  {
   "cell_type": "markdown",
   "metadata": {},
   "source": [
    "In the current feature matrix, there is only information that describe the pitch trajectory and the pitch location. Here, I'll add situational features."
   ]
  },
  {
   "cell_type": "markdown",
   "metadata": {},
   "source": [
    "I'll add the current count in the at-bat. For now, I will treat balls and strikes as independent (separate features)."
   ]
  },
  {
   "cell_type": "code",
   "execution_count": 223,
   "metadata": {
    "collapsed": true
   },
   "outputs": [],
   "source": [
    "# copy features matrix\n",
    "X2 = X1.copy()\n",
    "\n",
    "# add count information\n",
    "X2['pre_balls'] = jc_pitches['pre_balls']\n",
    "X2['pre_strikes'] = jc_pitches['pre_strike']"
   ]
  },
  {
   "cell_type": "markdown",
   "metadata": {},
   "source": [
    "Next, I'll add the base running situation. I will treat each bases as independent, with a value of 1 is there is a runner on and value of 0 if there is not a runner on."
   ]
  },
  {
   "cell_type": "code",
   "execution_count": 224,
   "metadata": {
    "collapsed": true
   },
   "outputs": [],
   "source": [
    "# construct pitches and events in same table\n",
    "extras = jc_pitches.merge(jc_events,\n",
    "                          left_on=['game_id', 'cur_event'],\n",
    "                          right_on=['game_id', 'event_id'],\n",
    "                          how='left')"
   ]
  },
  {
   "cell_type": "code",
   "execution_count": 225,
   "metadata": {
    "collapsed": false
   },
   "outputs": [],
   "source": [
    "# runners in scoring position\n",
    "runners = extras[['pre_2b', 'pre_3b']].copy()\n",
    "runners[runners>0] = 1\n",
    "\n",
    "# append to dataframe\n",
    "X2 = pd.concat([X2, runners], axis=1)"
   ]
  },
  {
   "cell_type": "markdown",
   "metadata": {},
   "source": [
    "Next, I'll add the number of outs in the inning, as well as the inning."
   ]
  },
  {
   "cell_type": "code",
   "execution_count": 226,
   "metadata": {
    "collapsed": false
   },
   "outputs": [],
   "source": [
    "# outs\n",
    "X2['outs'] = extras['pre_out']\n",
    "\n",
    "# inning\n",
    "X2['inning'] = extras['inning']"
   ]
  },
  {
   "cell_type": "markdown",
   "metadata": {},
   "source": [
    "I'll also add the score of the game, with negative values indicating the batter's team is behind and positive values indicating the batter's team is ahead."
   ]
  },
  {
   "cell_type": "code",
   "execution_count": 227,
   "metadata": {
    "collapsed": false
   },
   "outputs": [],
   "source": [
    "# score differential\n",
    "score_diff = extras['pre_home_score']-extras['pre_away_score']\n",
    "score_diff[extras['is_top_inning']==True] = -score_diff[extras['is_top_inning']==True]\n",
    "X2['score_diff'] = score_diff\n",
    "X2['away'] = extras['is_top_inning']"
   ]
  },
  {
   "cell_type": "markdown",
   "metadata": {},
   "source": [
    "With these simple situational features, I'll run random forest again."
   ]
  },
  {
   "cell_type": "code",
   "execution_count": 228,
   "metadata": {
    "collapsed": false
   },
   "outputs": [],
   "source": [
    "# split data into training and test sets\n",
    "X2_train, X2_test, y_train, y_test = split_data(X2, y, 0.7, 0)"
   ]
  },
  {
   "cell_type": "code",
   "execution_count": 229,
   "metadata": {
    "collapsed": true
   },
   "outputs": [],
   "source": [
    "# initialize classifiers\n",
    "nestimators = 1000\n",
    "seed = 0\n",
    "rf2_fit = RandomForestClassifier(n_estimators=nestimators,\n",
    "                                 criterion='gini',\n",
    "                                 max_features='sqrt',\n",
    "                                 random_state=seed,\n",
    "                                 oob_score=True,).fit(X2_train, y_train)"
   ]
  },
  {
   "cell_type": "code",
   "execution_count": 230,
   "metadata": {
    "collapsed": false
   },
   "outputs": [
    {
     "name": "stdout",
     "output_type": "stream",
     "text": [
      "out-of-bag error:  0.222028985507\n",
      "test error:  0.220930232558\n"
     ]
    }
   ],
   "source": [
    "# out-of-bag error\n",
    "print(\"out-of-bag error: \", 1-rf2_fit.oob_score_)\n",
    "\n",
    "# test error\n",
    "print(\"test error: \", 1-np.mean(rf2_fit.predict(X2_test)==y_test))"
   ]
  },
  {
   "cell_type": "markdown",
   "metadata": {},
   "source": [
    "The OOB error is smaller than the original model, but the test error is slightly larger. Therefore, it doesn't appear that the situational features are helping improve the model much. "
   ]
  },
  {
   "cell_type": "markdown",
   "metadata": {},
   "source": [
    "I'll look at the feature importances now."
   ]
  },
  {
   "cell_type": "code",
   "execution_count": 231,
   "metadata": {
    "collapsed": false
   },
   "outputs": [
    {
     "data": {
      "image/png": "[encoded data removed]",
      "text/plain": [
       "<matplotlib.figure.Figure at 0x7f2c62f7def0>"
      ]
     },
     "metadata": {},
     "output_type": "display_data"
    }
   ],
   "source": [
    "# calculate feature importance\n",
    "importance = pd.Series(rf2_fit.feature_importances_,\n",
    "                       index=X2.columns)\n",
    "importance.plot.bar(color='blue', width=0.25)\n",
    "plt.show()"
   ]
  },
  {
   "cell_type": "markdown",
   "metadata": {},
   "source": [
    "Again, the feature importance estimates seem to be biased by the number of values a feature can have. For instance, the binary features (`p_hand`, `pre_1b`, `pre_2b`, `pre_3b`, and `away`) all have low importance."
   ]
  },
  {
   "cell_type": "markdown",
   "metadata": {},
   "source": [
    "### Previous pitch features"
   ]
  },
  {
   "cell_type": "markdown",
   "metadata": {},
   "source": [
    "The pitch information and result of the previous throw can potentially provide more information about whether the batter swings on this pitch or not. Here, I'll create features related to the previous pitch."
   ]
  },
  {
   "cell_type": "markdown",
   "metadata": {},
   "source": [
    "First, I'll grab the location and pitch trajectory features from the previous pitch. This is trickier than just shifting the rows in our feature matrix down, as I had previously removed pitches that were Nans. As a result, a number of pitches are not actually in sequence (beside those that were from the previous at bat or even previous game). Therefore, I'll return to the original pitch information."
   ]
  },
  {
   "cell_type": "code",
   "execution_count": 232,
   "metadata": {
    "collapsed": false
   },
   "outputs": [],
   "source": [
    "# grab all pitches shifted including nans\n",
    "jc_pitches_nans = jc.pitches_against().shift(1)\n",
    "\n",
    "# grab pitches that are in the cleaned dataset\n",
    "indices = jc_pitches['index']\n",
    "next_pitches = jc_pitches_nans.iloc[indices, :].reset_index()"
   ]
  },
  {
   "cell_type": "code",
   "execution_count": 234,
   "metadata": {
    "collapsed": false
   },
   "outputs": [],
   "source": [
    "# copy features\n",
    "X3 = X2.copy()\n",
    "\n",
    "# previous pitch features\n",
    "#X3['prev_px'] = next_pitches['px']\n",
    "#X3['prev_pz'] = next_pitches['pz']\n",
    "#X3['prev_ax'] = next_pitches['ax']\n",
    "#X3['prev_az'] = next_pitches['az']\n",
    "#X3['prev_spin_rate'] = next_pitches['spin_rate']\n",
    "#X3['prev_spin_dir'] = next_pitches['spin_dir']\n",
    "X3['prev_px'] = -X2['px'].diff(1)\n",
    "X3['prev_pz'] = -X2['pz'].diff(1)\n",
    "X3['prev_ax'] = -X2['ax'].diff(1)\n",
    "X3['prev_az'] = -X2['az'].diff(1)\n",
    "X3['prev_spin_rate'] = -X2['spin_rate'].diff(1)\n",
    "X3['prev_spin_dir'] = -X2['spin_dir'].diff(1)\n",
    "X3['prev_vx0'] = -X2['vx0'].diff(1)\n",
    "X3['prev_vz0'] = -X2['vz0'].diff(1)\n",
    "X3['prev_ay'] = -X2['ay'].diff(1)\n",
    "\n",
    "# impute nans with means\n",
    "X3 = X3.fillna(X3.mean())\n",
    "\n",
    "# get previous pitch swing information\n",
    "X3['prev_swing'] = y.shift(1)\n",
    "X3.loc[0, 'prev_swing'] = 0"
   ]
  },
  {
   "cell_type": "code",
   "execution_count": 235,
   "metadata": {
    "collapsed": true
   },
   "outputs": [],
   "source": [
    "# split data into training and test sets\n",
    "X3_train, X3_test, y_train, y_test = split_data(X3, y, 0.7, 0)"
   ]
  },
  {
   "cell_type": "code",
   "execution_count": 236,
   "metadata": {
    "collapsed": true
   },
   "outputs": [],
   "source": [
    "# initialize classifiers\n",
    "nestimators = 1000\n",
    "seed = 0\n",
    "rf3_fit = RandomForestClassifier(n_estimators=nestimators,\n",
    "                                 criterion='gini',\n",
    "                                 max_features='sqrt',\n",
    "                                 random_state=seed,\n",
    "                                 oob_score=True,).fit(X3_train, y_train)"
   ]
  },
  {
   "cell_type": "code",
   "execution_count": 237,
   "metadata": {
    "collapsed": false
   },
   "outputs": [
    {
     "name": "stdout",
     "output_type": "stream",
     "text": [
      "out-of-bag error:  0.233043478261\n",
      "test error:  0.206718346253\n"
     ]
    }
   ],
   "source": [
    "# out-of-bag error\n",
    "print(\"out-of-bag error: \", 1-rf3_fit.oob_score_)\n",
    "\n",
    "# test error\n",
    "print(\"test error: \", 1-np.mean(rf3_fit.predict(X3_test)==y_test))"
   ]
  },
  {
   "cell_type": "code",
   "execution_count": 238,
   "metadata": {
    "collapsed": false
   },
   "outputs": [
    {
     "data": {
      "image/png": "[encoded data removed]",
      "text/plain": [
       "<matplotlib.figure.Figure at 0x7f2c62e11ef0>"
      ]
     },
     "metadata": {},
     "output_type": "display_data"
    }
   ],
   "source": [
    "# calculate feature importance\n",
    "importance = pd.Series(rf3_fit.feature_importances_,\n",
    "                       index=X3.columns)\n",
    "importance.plot.bar(color='blue', width=0.25)\n",
    "plt.show()"
   ]
  },
  {
   "cell_type": "markdown",
   "metadata": {},
   "source": [
    "## Model evaluation"
   ]
  },
  {
   "cell_type": "code",
   "execution_count": 143,
   "metadata": {
    "collapsed": false
   },
   "outputs": [],
   "source": [
    "# imports\n",
    "from sklearn.metrics import roc_auc_score\n",
    "from sklearn.metrics import roc_curve\n",
    "\n",
    "fpr_grd_lm, tpr_grd_lm, _ = roc_curve(y_test, rf1_fit.predict_proba(X_test)[:, 1])"
   ]
  },
  {
   "cell_type": "code",
   "execution_count": 144,
   "metadata": {
    "collapsed": false
   },
   "outputs": [
    {
     "data": {
      "image/png": "[encoded data removed]",
      "text/plain": [
       "<matplotlib.figure.Figure at 0x7f30c81059e8>"
      ]
     },
     "metadata": {},
     "output_type": "display_data"
    }
   ],
   "source": [
    "fig, ax = plt.subplots()\n",
    "ax.plot(fpr_grd_lm, tpr_grd_lm)\n",
    "ax.plot([0, 1], [0, 1])\n",
    "#ax.set_xlim(-0.01 ,1.01)\n",
    "#ax.set_ylim(-0.01 ,1.01)\n",
    "ax.set_aspect('equal', 'box')"
   ]
  },
  {
   "cell_type": "code",
   "execution_count": 145,
   "metadata": {
    "collapsed": false
   },
   "outputs": [
    {
     "data": {
      "text/plain": [
       "0.8552584834877508"
      ]
     },
     "execution_count": 145,
     "metadata": {},
     "output_type": "execute_result"
    }
   ],
   "source": [
    "roc_auc_score(y_test, rf1_fit.predict_proba(X_test)[:, 1])"
   ]
  },
  {
   "cell_type": "markdown",
   "metadata": {
    "collapsed": true
   },
   "source": [
    "# Naive bayes"
   ]
  },
  {
   "cell_type": "code",
   "execution_count": null,
   "metadata": {
    "collapsed": true
   },
   "outputs": [],
   "source": [
    "# import\n",
    "from sklearn.naive_bayes import GaussianNB\n",
    "\n",
    "# velocity errors\n",
    "nb_fit = GaussianNB().fit(X_train, y_train)\n",
    "print(\"naive bayes test error: \", 1-np.mean(nb_fit.predict(X_test)==y_test))"
   ]
  }
 ],
 "metadata": {
  "kernelspec": {
   "display_name": "Python 3",
   "language": "python",
   "name": "python3"
  },
  "language_info": {
   "codemirror_mode": {
    "name": "ipython",
    "version": 3
   },
   "file_extension": ".py",
   "mimetype": "text/x-python",
   "name": "python",
   "nbconvert_exporter": "python",
   "pygments_lexer": "ipython3",
   "version": "3.5.2"
  }
 },
 "nbformat": 4,
 "nbformat_minor": 2
}
