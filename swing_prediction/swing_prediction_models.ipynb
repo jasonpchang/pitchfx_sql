{
 "cells": [
  {
   "cell_type": "markdown",
   "metadata": {},
   "source": [
    "# Swing prediction: models"
   ]
  },
  {
   "cell_type": "markdown",
   "metadata": {},
   "source": [
    "Predicting when a batter is more likely to swing can be useful for a pitcher. For instance, it can be useful to determine how likely a batter will swing on a full count. If he is inclined to swing, then the batter could be suceptible to chasing pitches out of the strike zone.\n",
    "\n",
    "In *swing_prediction_random_forest*, I used random forest to model whether a batter will swing or not. I also used the method to determine a proper set of features to use for modeling. Here, I'll look at other binary classification methods and compare them to random forest."
   ]
  },
  {
   "cell_type": "code",
   "execution_count": 1,
   "metadata": {
    "collapsed": false
   },
   "outputs": [],
   "source": [
    "# imports\n",
    "from IPython.display import display\n",
    "import matplotlib.pyplot as plt\n",
    "import numpy as np\n",
    "import pandas as pd\n",
    "import seaborn as sns\n",
    "import sqlite3\n",
    "import subprocess\n",
    "%matplotlib inline"
   ]
  },
  {
   "cell_type": "markdown",
   "metadata": {},
   "source": [
    "## Approach"
   ]
  },
  {
   "cell_type": "markdown",
   "metadata": {},
   "source": [
    "I'll look at a variety of models for binary classification, specifically naive Bayes, logistic regression, and support vector machines. I'll use features selected in *swing_prediction_random_forest* and focus on making a model Jack Cust again. The techniques examined here can be applied to other individual batters."
   ]
  },
  {
   "cell_type": "markdown",
   "metadata": {},
   "source": [
    "## Loading data and creating the response"
   ]
  },
  {
   "cell_type": "markdown",
   "metadata": {},
   "source": [
    "I'll start by loading information from where a given batter is hitting. For these tests, I'll start with Jack Cust, who was known for three things: hitting home runs, walks, and striking out. I'll create the response (swing or no swing) as well."
   ]
  },
  {
   "cell_type": "code",
   "execution_count": 2,
   "metadata": {
    "collapsed": true
   },
   "outputs": [],
   "source": [
    "# specify database name\n",
    "dbname = \"../dat/pitchfx2008.db\"\n",
    "\n",
    "# connect to the sqlite3 database\n",
    "db = sqlite3.connect(dbname)\n",
    "hdb = db.cursor()"
   ]
  },
  {
   "cell_type": "code",
   "execution_count": 3,
   "metadata": {
    "collapsed": false
   },
   "outputs": [],
   "source": [
    "# import classes\n",
    "sys.path.append('../src')\n",
    "from Player import Player\n",
    "\n",
    "# create player object\n",
    "jc = Player(\"Jack Cust\", db)\n",
    "\n",
    "# grab pitches\n",
    "jc_pitches = jc.pitches_against(clean=1).reset_index(drop=False)\n",
    "# grab events\n",
    "jc_events = jc.hit_events()\n",
    "# grab games\n",
    "jc_games = jc.hit_games()\n",
    "# grab player table\n",
    "query = \"\"\"SELECT *\n",
    "        FROM players\"\"\"\n",
    "players = pd.read_sql_query(query, db)"
   ]
  },
  {
   "cell_type": "code",
   "execution_count": 4,
   "metadata": {
    "collapsed": false
   },
   "outputs": [],
   "source": [
    "# list of swing outcomes\n",
    "swings = ['Swinging Strike',\n",
    "          'In play, out(s)',\n",
    "          'In play, no out',\n",
    "          'In play, run(s)',\n",
    "          'Foul',\n",
    "          'Foul Tip',\n",
    "          'Foul (Runner Going)',\n",
    "          'Swinging Strike (Blocked)']\n",
    "\n",
    "# create feature of swings in pitches\n",
    "jc_pitches['swing'] = np.array(list(map(lambda x: x in swings, jc_pitches['description'])))"
   ]
  },
  {
   "cell_type": "markdown",
   "metadata": {},
   "source": [
    "## Feature pre-processing"
   ]
  },
  {
   "cell_type": "markdown",
   "metadata": {},
   "source": [
    "I'll now create the set of features selected from *swing_prediction_random_forest*."
   ]
  },
  {
   "cell_type": "code",
   "execution_count": 5,
   "metadata": {
    "collapsed": false
   },
   "outputs": [],
   "source": [
    "# join four tables\n",
    "features = jc_pitches.merge(jc_events,\n",
    "                     left_on=['game_id', 'cur_event'],\n",
    "                     right_on=['game_id', 'event_id'],\n",
    "                     how='left',) \\\n",
    "              .merge(jc_games,\n",
    "                     left_on=['game_id'],\n",
    "                     right_on=['game_id'],\n",
    "                     how='left',) \\\n",
    "              .merge(players[['player_id', 'throws']].drop_duplicates(),\n",
    "                     left_on=['pitcher_id'],\n",
    "                     right_on=['player_id'],\n",
    "                     how='left',) \\\n",
    "              .sort_values(by=['game_id', 'cur_event'])\n",
    "\n",
    "# pitch information to calculate gradients of\n",
    "grad_f = ['start_speed', 'end_speed', 'pfx_x', 'pfx_z', 'px', 'pz', 'x', 'y', 'x0', 'z0', 'vx0',\n",
    "          'vy0', 'vz0', 'ax', 'ay', 'az', 'break_y', 'break_angle', 'break_length', 'spin_dir', 'spin_rate']\n",
    "for ff in grad_f:\n",
    "    features['grad_%s' %(ff)] = -features[ff].diff(1)\n",
    "    \n",
    "# get previous pitch swing information\n",
    "features['prev_swing'] = features['swing'].shift(1)\n",
    "features['prev_swing'] = features['prev_swing'].fillna(False)\n",
    "    \n",
    "# impute nans with column means\n",
    "features = features.fillna(features.mean())\n",
    "\n",
    "# pitcher handedness (0: left, 1: right)\n",
    "features['throws'].replace(['L', 'R'], [0, 1], inplace=True)\n",
    "\n",
    "# score differential (relative to batter's team)\n",
    "myteam = features['pre_home_score'].copy()\n",
    "myteam[features['is_top_inning']==True] = features[features['is_top_inning']==True]['pre_away_score']\n",
    "otherteam = features['pre_away_score'].copy()\n",
    "otherteam[features['is_top_inning']==True] = features[features['is_top_inning']==True]['pre_home_score']\n",
    "features['my_score'] = myteam\n",
    "features['other_score'] = otherteam\n",
    "features['score_diff'] = myteam-otherteam\n",
    "features = features.drop(['pre_home_score', 'pre_away_score'], axis=1)\n",
    "\n",
    "# ball-strike differential\n",
    "features['count_diff'] = features['pre_balls']-features['pre_strike']"
   ]
  },
  {
   "cell_type": "code",
   "execution_count": 6,
   "metadata": {
    "collapsed": true
   },
   "outputs": [],
   "source": [
    "# drop columns\n",
    "dropped_indices = ['index', 'game_id', 'cur_event', 'outcome', 'post_balls', 'post_strike', 'sz_top', 'sz_bot',\n",
    "                   'y0', 'event_id', 'description', 'event_description', 'post_1b', 'post_2b', 'post_3b', 'post_home',\n",
    "                   'post_home_score', 'post_away_score', 'game_type', 'game_time', 'home_id', 'visit_id', 'umpire_home',\n",
    "                   'umpire_first', 'umpire_second', 'umpire_third', 'player_id', 'post_out', 'batter_id', 'pitch_type',\n",
    "                   'date', 'stadium_id', 'home_wins', 'home_losses', 'visit_wins', 'visit_losses', 'pitcher_id',\n",
    "                   'at_bat', 'pitch_num', 'x', 'grad_x', 'y', 'grad_y', 'end_speed', 'grad_end_speed','vy0', \n",
    "                   'grad_vy0', 'pfx_x', 'grad_pfx_x', 'pfx_z', 'grad_pfx_z', 'break_length', 'grad_break_length']\n",
    "\n",
    "features = features.drop(dropped_indices, axis=1)"
   ]
  },
  {
   "cell_type": "markdown",
   "metadata": {},
   "source": [
    "Next I'll split the data into training and test sets."
   ]
  },
  {
   "cell_type": "code",
   "execution_count": 7,
   "metadata": {
    "collapsed": true
   },
   "outputs": [],
   "source": [
    "# import\n",
    "import sys\n",
    "sys.path.append('../src')\n",
    "from split_data import split_data"
   ]
  },
  {
   "cell_type": "code",
   "execution_count": 8,
   "metadata": {
    "collapsed": false
   },
   "outputs": [],
   "source": [
    "# creating training and test sets\n",
    "y = features['swing'].astype('int')\n",
    "features = features.drop('swing', axis=1)\n",
    "X_train, X_test, y_train, y_test = split_data(features, y, 0.7, 0)"
   ]
  },
  {
   "cell_type": "markdown",
   "metadata": {},
   "source": [
    "## Model fitting"
   ]
  },
  {
   "cell_type": "markdown",
   "metadata": {},
   "source": [
    "I'll now fit the training data through with various models, roughly from less to more flexible (placing random forest first since it was the first model tested)."
   ]
  },
  {
   "cell_type": "markdown",
   "metadata": {},
   "source": [
    "### Random forest"
   ]
  },
  {
   "cell_type": "markdown",
   "metadata": {},
   "source": [
    "I'll run the random forest model from *swing_prediction_random_forest*. This is the baseline model, and it likely does a good job of predicting swings since it can handle various feature types and has a track record of good performance."
   ]
  },
  {
   "cell_type": "code",
   "execution_count": 9,
   "metadata": {
    "collapsed": false
   },
   "outputs": [],
   "source": [
    "# import\n",
    "from sklearn.ensemble import RandomForestClassifier\n",
    "\n",
    "# initialize parameters\n",
    "seed = 1000\n",
    "nestimators = 1000\n",
    "\n",
    "# initialize classifiers\n",
    "rf_fit = RandomForestClassifier(n_estimators=nestimators,\n",
    "                                criterion='gini',\n",
    "                                max_features='sqrt',\n",
    "                                random_state=seed,\n",
    "                                oob_score=True,).fit(X_train, y_train)"
   ]
  },
  {
   "cell_type": "markdown",
   "metadata": {},
   "source": [
    "For validating my model, I will look to examine the out-of-bag error, which is similar to cross-validation error. In random forest, a number of decision trees are built on bootstrapped data. Therefore, each tree is likely to leave out a subset of the training data. One can predict the reponse for each data point using results from trees where the data point was not used to build the tree (OOB). The final prediction for each data point is just the majority vote amongst total predictions (in the classification problem). I'll also provide the error on the test set."
   ]
  },
  {
   "cell_type": "code",
   "execution_count": 10,
   "metadata": {
    "collapsed": false
   },
   "outputs": [
    {
     "name": "stdout",
     "output_type": "stream",
     "text": [
      "out-of-bag error:  0.228405797101\n",
      "test error:  0.220930232558\n"
     ]
    }
   ],
   "source": [
    "# out-of-bag error\n",
    "print(\"out-of-bag error: \", 1-rf_fit.oob_score_)\n",
    "\n",
    "# test error\n",
    "print(\"test error: \", 1-np.mean(rf_fit.predict(X_test)==y_test))"
   ]
  },
  {
   "cell_type": "markdown",
   "metadata": {},
   "source": [
    "The errors are significantly lower than guessing a non-swing every pitch, which is a promising sign."
   ]
  },
  {
   "cell_type": "markdown",
   "metadata": {},
   "source": [
    "### Naive Bayes"
   ]
  },
  {
   "cell_type": "markdown",
   "metadata": {},
   "source": [
    "Naive Bayes is based on applying Bayes' theorem with strong independence assumptions between features. So given a new data point, based on the data point's features and the training data, compute the probability of each possible label, picking the label with the highest probability.\n",
    "\n",
    "One effectively computes a number of conditional probabilities and multiplies those probabilities together under the independence assumption. While there are a mix of continuous and categorical features, I will make the assumption that all features have close to Gaussian distributions, which is clearly not the case. Other options (Bernoulli or Multinomial features) describe some of the features but cannot handle the continuous features."
   ]
  },
  {
   "cell_type": "code",
   "execution_count": 11,
   "metadata": {
    "collapsed": false
   },
   "outputs": [
    {
     "name": "stdout",
     "output_type": "stream",
     "text": [
      "naive bayes test error:  0.448320413437\n"
     ]
    }
   ],
   "source": [
    "# import\n",
    "from sklearn.naive_bayes import GaussianNB\n",
    "\n",
    "# swing classification errors\n",
    "nb_fit = GaussianNB().fit(X_train, y_train)\n",
    "print(\"naive bayes test error: \", 1-np.mean(nb_fit.predict(X_test)==y_test))"
   ]
  },
  {
   "cell_type": "markdown",
   "metadata": {},
   "source": [
    "As expected, Naive Bayes does a poor job predicting swings in the test set. Features are unlikely to be completely independent of each other, and not all features will have a Gaussian distribution."
   ]
  },
  {
   "cell_type": "markdown",
   "metadata": {},
   "source": [
    "Now I'll remove the non-continuous features and see how naive Bayes performs."
   ]
  },
  {
   "cell_type": "code",
   "execution_count": 12,
   "metadata": {
    "collapsed": false
   },
   "outputs": [],
   "source": [
    "# remove non-continuous features\n",
    "non_contf = ['time', 'pre_balls', 'pre_strike', 'inning', 'is_top_inning', 'pre_out', 'pre_1b',\n",
    "             'pre_2b', 'pre_3b', 'throws', 'prev_swing', 'my_score', 'other_score', 'score_diff',\n",
    "             'count_diff']\n",
    "\n",
    "Xnb = features.drop(non_contf, axis=1)"
   ]
  },
  {
   "cell_type": "code",
   "execution_count": 13,
   "metadata": {
    "collapsed": true
   },
   "outputs": [],
   "source": [
    "# standardize data\n",
    "Xnb_train, Xnb_test, y_train, y_test = split_data(Xnb, y, 0.7, 0)"
   ]
  },
  {
   "cell_type": "code",
   "execution_count": 14,
   "metadata": {
    "collapsed": false
   },
   "outputs": [
    {
     "name": "stdout",
     "output_type": "stream",
     "text": [
      "naive bayes test error:  0.339793281654\n"
     ]
    }
   ],
   "source": [
    "# fit naive bayes classifier\n",
    "nb_fit = GaussianNB().fit(Xnb_train, y_train)\n",
    "print(\"naive bayes test error: \", 1-np.mean(nb_fit.predict(Xnb_test)==y_test))"
   ]
  },
  {
   "cell_type": "markdown",
   "metadata": {},
   "source": [
    "The classifier does a better job predicting swings in the test set, although still not as good of a job as random forest. The same issues as before (independent features, Gaussian-distributed features) are still issues."
   ]
  },
  {
   "cell_type": "markdown",
   "metadata": {},
   "source": [
    "### Logistic regression"
   ]
  },
  {
   "cell_type": "markdown",
   "metadata": {},
   "source": [
    "Logistic regression models the probability that a batter swings, given some features. Note that I will use cross-validation to determine a value for C, which determines the regularization strength for L2 regularization here. Smaller values correspond to stronger regularization (inverse of regularization strength)."
   ]
  },
  {
   "cell_type": "code",
   "execution_count": 15,
   "metadata": {
    "collapsed": true
   },
   "outputs": [],
   "source": [
    "# import\n",
    "from sklearn.linear_model import LogisticRegressionCV"
   ]
  },
  {
   "cell_type": "markdown",
   "metadata": {},
   "source": [
    "I'll first look at L2 regularization (ridge), followed by L1 regularization (lasso). I'll use three-fold cross-validation here to estimate the best value of C for each approach. Note that the features should be standardized prior to fitting, as the regularization term in the objective function is directly related to the coefficients and how the features are scaled."
   ]
  },
  {
   "cell_type": "code",
   "execution_count": 16,
   "metadata": {
    "collapsed": true
   },
   "outputs": [],
   "source": [
    "# import\n",
    "from sklearn.preprocessing import StandardScaler\n",
    "\n",
    "# calculate scaling values\n",
    "scaler = StandardScaler().fit(X_train)\n",
    "\n",
    "# scale data\n",
    "X_train_stand = scaler.transform(X_train)\n",
    "X_test_stand = scaler.transform(X_test)"
   ]
  },
  {
   "cell_type": "code",
   "execution_count": 17,
   "metadata": {
    "collapsed": false
   },
   "outputs": [
    {
     "name": "stdout",
     "output_type": "stream",
     "text": [
      "logistic regression (ridge) test error:  0.391472868217\n"
     ]
    }
   ],
   "source": [
    "# fit ridge\n",
    "rseed = 0\n",
    "logregL2_fit = LogisticRegressionCV(Cs=10,\n",
    "                                    cv=3,\n",
    "                                    penalty='l2',\n",
    "                                    solver='lbfgs',\n",
    "                                    random_state=rseed,\n",
    "                                    refit=True).fit(X_train_stand, y_train)\n",
    "print(\"logistic regression (ridge) test error: \", 1-np.mean(logregL2_fit.predict(X_test_stand)==y_test))"
   ]
  },
  {
   "cell_type": "code",
   "execution_count": 18,
   "metadata": {
    "collapsed": false
   },
   "outputs": [
    {
     "name": "stdout",
     "output_type": "stream",
     "text": [
      "logistic regression (lasso) test error:  0.387596899225\n"
     ]
    }
   ],
   "source": [
    "# fit lasso\n",
    "logregL1_fit = LogisticRegressionCV(Cs=10,\n",
    "                                    cv=3,\n",
    "                                    penalty='l1',\n",
    "                                    solver='liblinear',\n",
    "                                    random_state=rseed).fit(X_train_stand, y_train)\n",
    "print(\"logistic regression (lasso) test error: \", 1-np.mean(logregL1_fit.predict(X_test_stand)==y_test))"
   ]
  },
  {
   "cell_type": "markdown",
   "metadata": {},
   "source": [
    "The two models provide similar test errors, with L1 regularization performing slightly better than L2 regularization. This is potentially observed because some of the features might not actually contributing anything to the response (although again the difference in test errors is small). Additionally, both test errors are quite high compared to the other methods (random forest and naive Bayes), potentially because the data are unlikely to be linearly separable (I have not pursued feature transformations, like polynomial representations or product of features, here)."
   ]
  },
  {
   "cell_type": "markdown",
   "metadata": {},
   "source": [
    "### K-nearest neighbors"
   ]
  },
  {
   "cell_type": "markdown",
   "metadata": {},
   "source": [
    "Rather than try logistic regression with more features (to estimate a more flexible model), I will look at a non-parametric approach. Specifically, I will look at K-nearest neighbors, which assigns a label to a new data point based on the labels of the nearest points in the training examples. There is no model that needs to be fit before making predictions.\n",
    "\n",
    "Note that features should be standardized, as distance metrics are used to find the nearest neighbors. Additionally, I will look at both Manhattan and Euclidean distances, as well as both uniform and distance-based weights for neighbors. The reasoning for the former is that Mahattan might be appropriate if different features are not comparable and one wants to place emphasis on outliers, and the reasoning for the latter is that one might want to weight training observations that are more similar to the data point in question.\n",
    "\n",
    "I will also use cross-validation to determine a reasonable value for K."
   ]
  },
  {
   "cell_type": "code",
   "execution_count": 19,
   "metadata": {
    "collapsed": false
   },
   "outputs": [],
   "source": [
    "# import\n",
    "from sklearn.model_selection import cross_val_score\n",
    "from sklearn.neighbors import KNeighborsClassifier\n",
    "\n",
    "# method variables\n",
    "weights = ['uniform', 'distance']\n",
    "distances = ['euclidean', 'manhattan']\n",
    "\n",
    "# range of K and placeholder for scores\n",
    "kvals = range(1, 101)\n",
    "kscores = np.zeros((len(kvals), len(weights), len(distances)))\n",
    "\n",
    "# cross-validation and k-nearest neighbors\n",
    "for iww, ww in enumerate(weights):\n",
    "    for idd, dd in enumerate(distances):\n",
    "        for ikk, kk in enumerate(kvals):\n",
    "            knn = KNeighborsClassifier(n_neighbors=kk,\n",
    "                                       metric=dd,\n",
    "                                       weights=ww,)\n",
    "            scores = cross_val_score(knn,\n",
    "                                     X_train_stand,\n",
    "                                     y_train,\n",
    "                                     cv=3,\n",
    "                                     scoring='accuracy',)\n",
    "            kscores[ikk, iww, idd] = scores.mean()"
   ]
  },
  {
   "cell_type": "code",
   "execution_count": 20,
   "metadata": {
    "collapsed": false
   },
   "outputs": [
    {
     "name": "stdout",
     "output_type": "stream",
     "text": [
      "best K:  56\n",
      "best weight:  uniform\n",
      "best distance:  manhattan\n",
      "knn test error:  0.284237726098\n"
     ]
    }
   ],
   "source": [
    "# find K, distance, and weights that yield best cross-validation results\n",
    "ikbest, iwbest, idbest = np.unravel_index(kscores.argmax(), kscores.shape)\n",
    "print('best K: ', kvals[ikbest])\n",
    "print('best weight: ', weights[iwbest])\n",
    "print('best distance: ', distances[idbest])\n",
    "\n",
    "# run fit\n",
    "knn_fit = KNeighborsClassifier(n_neighbors=kvals[ikbest],\n",
    "                               metric=distances[idbest],\n",
    "                               weights=weights[iwbest],).fit(X_train_stand, y_train)\n",
    "print(\"knn test error: \", 1-np.mean(knn_fit.predict(X_test_stand)==y_test))"
   ]
  },
  {
   "cell_type": "markdown",
   "metadata": {},
   "source": [
    "It appears that using the combination of K=56, uniform weighting, and a Manhattan distance metric produces the smallest cross-validation error. Using these parameters to estimate swings on the test set produces the lower test errors than logistic regression and naive Bayes, but not lower than random forest. These results suggest that a non-linear approach might produce the best results here."
   ]
  },
  {
   "cell_type": "markdown",
   "metadata": {},
   "source": [
    "### SVM"
   ]
  },
  {
   "cell_type": "markdown",
   "metadata": {},
   "source": [
    "Support vector machines (SVM) allows for non-linear decision boundaries. I will look at radial basis functions here (linear regression is similar to SVM with a linear kernel), which makes this a non-parametric approach since pairwise distances between training and new points.\n",
    "\n",
    "I will use cross-validation to find reasonable values for C (which controls the budget for violations of training data points of the margin) and gamma (which controls the local influence of a single training example on the decision boundary). Note that because radial basis functions rely on distances between test observatoins and training observations, I use the standardized features."
   ]
  },
  {
   "cell_type": "code",
   "execution_count": 21,
   "metadata": {
    "collapsed": false
   },
   "outputs": [],
   "source": [
    "# imports\n",
    "from sklearn.model_selection import GridSearchCV\n",
    "from sklearn.svm import SVC\n",
    "\n",
    "# set values for tuning parameters\n",
    "tuned_parameters = [{'kernel': ['rbf'],\n",
    "                     'gamma': [1, 1e-1, 1e-2, 1e-3, 1e-4],\n",
    "                     'C': [0.1, 1, 10, 100, 1000]},]\n",
    "\n",
    "# use cross validation to find tuning parameters\n",
    "svm_fit = GridSearchCV(SVC(cache_size=10000,\n",
    "                           probability=True),\n",
    "                       tuned_parameters,\n",
    "                       cv=3,\n",
    "                       scoring='accuracy').fit(X_train_stand, y_train)"
   ]
  },
  {
   "cell_type": "code",
   "execution_count": 22,
   "metadata": {
    "collapsed": false
   },
   "outputs": [
    {
     "name": "stdout",
     "output_type": "stream",
     "text": [
      "best C:  10\n",
      "best gamma:  0.01\n",
      "svm with rbf test error:  0.248062015504\n"
     ]
    }
   ],
   "source": [
    "# print best parameters\n",
    "print(\"best C: \", svm_fit.best_params_['C'])\n",
    "print(\"best gamma: \", svm_fit.best_params_['gamma'])\n",
    "\n",
    "# calculate test error\n",
    "print(\"svm with rbf test error: \", 1-np.mean(svm_fit.predict(X_test_stand)==y_test))"
   ]
  },
  {
   "cell_type": "markdown",
   "metadata": {
    "collapsed": true
   },
   "source": [
    "Using the parameters selected through cross-validation, I find a much lower test error than naive Bayes, logistic regression with regularization, and k-nearest neighbors. However, the test error is still higher than from random forest."
   ]
  },
  {
   "cell_type": "markdown",
   "metadata": {},
   "source": [
    "## Model comparison"
   ]
  },
  {
   "cell_type": "markdown",
   "metadata": {},
   "source": [
    "To compare the performance of these different models, I plot the area under the ROC curves for each model and the test set."
   ]
  },
  {
   "cell_type": "code",
   "execution_count": 23,
   "metadata": {
    "collapsed": true
   },
   "outputs": [],
   "source": [
    "# import\n",
    "from sklearn.metrics import roc_auc_score, roc_curve"
   ]
  },
  {
   "cell_type": "code",
   "execution_count": 24,
   "metadata": {
    "collapsed": false
   },
   "outputs": [],
   "source": [
    "# calculate false positive and true negative rates\n",
    "preds = [rf_fit.predict_proba(X_test)[:, 1],\n",
    "         nb_fit.predict_proba(Xnb_test)[:, 1],\n",
    "         logregL2_fit.predict_proba(X_test_stand)[:, 1],\n",
    "         logregL1_fit.predict_proba(X_test_stand)[:, 1],\n",
    "         knn_fit.predict_proba(X_test_stand)[:, 1],\n",
    "         svm_fit.predict_proba(X_test_stand)[:, 1]]\n",
    "dats = ['random forest',\n",
    "        'naive Bayes',\n",
    "        'logistic regression--L2',\n",
    "        'logistic regression--L1',\n",
    "        'knn',\n",
    "        'svm',]"
   ]
  },
  {
   "cell_type": "code",
   "execution_count": 25,
   "metadata": {
    "collapsed": false
   },
   "outputs": [
    {
     "data": {
      "image/png": "[encoded data removed]",
      "text/plain": [
       "<matplotlib.figure.Figure at 0x7f589155f898>"
      ]
     },
     "metadata": {},
     "output_type": "display_data"
    }
   ],
   "source": [
    "# plot curves\n",
    "fig, ax = plt.subplots()\n",
    "for pred in preds:\n",
    "    false_pos, true_pos, _ = roc_curve(y_test, pred)\n",
    "    ax.plot(false_pos, true_pos)\n",
    "ax.plot([0, 1], [0, 1])\n",
    "ax.legend(dats, loc=4)\n",
    "ax.set_aspect('equal', 'box')\n",
    "ax.set_xlabel('False positive')\n",
    "ax.set_ylabel('True positive')\n",
    "plt.show()"
   ]
  },
  {
   "cell_type": "code",
   "execution_count": 26,
   "metadata": {
    "collapsed": false
   },
   "outputs": [
    {
     "name": "stdout",
     "output_type": "stream",
     "text": [
      "Area under ROC curve:\n",
      "random forest : 0.863930256352\n",
      "naive Bayes : 0.763613368954\n",
      "logistic regression--L2 : 0.620516682772\n",
      "logistic regression--L1 : 0.631153015404\n",
      "knn : 0.755481583584\n",
      "svm : 0.815810975956\n"
     ]
    }
   ],
   "source": [
    "# calculate area under roc curve\n",
    "print(\"Area under ROC curve:\")\n",
    "for ii in range(len(preds)):\n",
    "    print(dats[ii], \":\", roc_auc_score(y_test, preds[ii]))"
   ]
  },
  {
   "cell_type": "markdown",
   "metadata": {},
   "source": [
    "The area under the ROC curves suggest that the two best models are random forest and SVM with radial basis functions. Therefore, I choose my final model to be the random forest model."
   ]
  },
  {
   "cell_type": "code",
   "execution_count": 27,
   "metadata": {
    "collapsed": true
   },
   "outputs": [],
   "source": [
    "# clean up\n",
    "hdb.close()"
   ]
  },
  {
   "cell_type": "markdown",
   "metadata": {},
   "source": [
    "## Final thoughts"
   ]
  },
  {
   "cell_type": "markdown",
   "metadata": {},
   "source": [
    "Random forest displays the best performance in terms of predicting swings from Jack Cust. Swing prediction requires a non-linear model, as logistic regression performed the worst in this binary classification problem. As model flexibility increased, performance tended to improve (given that I used cross-validation to try to avoid overfitting).\n",
    "\n",
    "Note that while random forest performs the best of these models, feature interpretability is challenging given the bias the resulting feature importance metrics display toward features with more values. Therefore, in this particular case, interpretability is challenging given the many different types of features used (continuous, discrete, binary).\n",
    "\n",
    "While the performance of random forest is quite good, it should be tested on other batters."
   ]
  }
 ],
 "metadata": {
  "kernelspec": {
   "display_name": "Python 3",
   "language": "python",
   "name": "python3"
  },
  "language_info": {
   "codemirror_mode": {
    "name": "ipython",
    "version": 3
   },
   "file_extension": ".py",
   "mimetype": "text/x-python",
   "name": "python",
   "nbconvert_exporter": "python",
   "pygments_lexer": "ipython3",
   "version": "3.5.2"
  }
 },
 "nbformat": 4,
 "nbformat_minor": 2
}
