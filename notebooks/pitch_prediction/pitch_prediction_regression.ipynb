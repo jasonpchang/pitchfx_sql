{
 "cells": [
  {
   "cell_type": "markdown",
   "metadata": {},
   "source": [
    "# Pitch prediction -- regression"
   ]
  },
  {
   "cell_type": "markdown",
   "metadata": {},
   "source": [
    "If a batter knows what pitch is coming, he is more likely to be able to hit it or lay off of it. Therefore, if a pitcher's next pitch can be predicted, a massive advantage goes to the batter. I will look into the possibility of pitch prediction in the following notebook.\n",
    "\n",
    "I will start with importing some standard libraries."
   ]
  },
  {
   "cell_type": "code",
   "execution_count": 1,
   "metadata": {
    "collapsed": true
   },
   "outputs": [],
   "source": [
    "# imports\n",
    "from IPython.display import display\n",
    "import matplotlib.pyplot as plt\n",
    "import numpy as np\n",
    "import pandas as pd\n",
    "import seaborn as sns\n",
    "import sqlite3\n",
    "import subprocess\n",
    "%matplotlib inline"
   ]
  },
  {
   "cell_type": "markdown",
   "metadata": {},
   "source": [
    "## Approach"
   ]
  },
  {
   "cell_type": "markdown",
   "metadata": {},
   "source": [
    "I will look to predict pitches by using as few features as possible. Thus, I will begin by selecting raw features in the database based on human intuition. I intend to only turn to feature engineering if results are poor."
   ]
  },
  {
   "cell_type": "markdown",
   "metadata": {},
   "source": [
    "I intend to predict pitches using random forest. This approach has the advantages that it can display both low bias and low variance if results from a large number of decision trees are averaged. Additionally, random forest has a track record of good performance, can handle both regression and classification problems, and can also rank features based on influence on the response. Some drawbacks are that this approach can take up a lot of memory if the size of the dataset and the number of trees is large, and the forests themselves are a bit of a black box in terms of interpretability. Additionally, each pitcher is treated individually since each pitcher will have different pitch tendencies."
   ]
  },
  {
   "cell_type": "markdown",
   "metadata": {},
   "source": [
    "For the particular problem of pitch prediction, there are two possible responses that could be used: a categorical response that describes the pitch type (e.g., four-seam fastball, curveball, slider, etc.), or a numerical response that describes the trajectory of the ball (e.g., velocity and vertical/horizontal acceleration).\n",
    "\n",
    "Ideally, there would be reliable pitch-type labels so that noise in the response that's being predicted would be limited. For example, noise from slightly different trajectories of the same pitch would be limited by classifying them as the same pitch. Additionally, this approach would have a simple baseline metric from which to test my model against: does the model perform better than guessing the most commonly thrown pitch type every pitch? However, from previous work with pitch classification, I concluded that all pitch-type labels should be taken with caution. For instance, the difference between a two-seam and a four-seam fastball can be subjective, and the number of pitches in a pitcher's repertoire is also subjective. One option is to group all pitches into two labels: fastball and off-speed. While this approach would limit the number of misclassified pitches, it also fails to fully exploit the wealth of pitch trajectory information in the database.\n",
    "\n",
    "Alternatively, I could fully utilize the information in the database and try to predict the trajectory of the next pitch. From my pitch classification work, it appeared that velocity and acceleration were the most important features for separating pitch type, making them candidates for prediction. The advantage here is that the labels are more reliable than an arbitrary pitch type label; it is the raw data. This approach, however, would be sensitive to noise in the data. Again, a given pitch type is not executed perfectly every time, resulting in a range of trajectories. I am not interested so much in fitting the exact pitch trajectory of the next pitch as I am in estimating an approximate pitch trajectory that allows the hitter to distinguish between pitch types. Additionally, this approach has the additional challenge that it is difficult to specify a baseline metric to test my model against. Would I just guess the average trajectory of all pitch types every pitch?"
   ]
  },
  {
   "cell_type": "markdown",
   "metadata": {},
   "source": [
    "Here, I will pursue the latter approach because the labels are more reliable. To combat overfitting, I'll look to average over a large number of decision trees, as the variance of the method decreases as the number of trees used increases. For a baseline metric, I will use the root-mean-squared error of all observations with respect to the mean value (for velocity and acceleration)."
   ]
  },
  {
   "cell_type": "markdown",
   "metadata": {},
   "source": [
    "## Loading data"
   ]
  },
  {
   "cell_type": "markdown",
   "metadata": {},
   "source": [
    "Pitch prediction will not only depend on the previous pitch thrown, but also variables such as game situation. Therefore, I will load the *pitchfx*, *events*, and *games* tables in the database as pandas dataframes so that I maintain maximum flexibility. I will focus on Barry Zito again for this study."
   ]
  },
  {
   "cell_type": "code",
   "execution_count": 2,
   "metadata": {
    "collapsed": false
   },
   "outputs": [],
   "source": [
    "# specify database name\n",
    "dbname = \"../../dat/pitchfx2008.db\"\n",
    "\n",
    "# connect to the sqlite3 database\n",
    "db = sqlite3.connect(dbname)\n",
    "hdb = db.cursor()"
   ]
  },
  {
   "cell_type": "code",
   "execution_count": 3,
   "metadata": {
    "collapsed": true
   },
   "outputs": [],
   "source": [
    "# import classes\n",
    "sys.path.append('../../src')\n",
    "from Player import Player\n",
    "\n",
    "# create player object\n",
    "bz = Player(\"Barry Zito\", db)\n",
    "\n",
    "# grab pitches\n",
    "bz_pitches = bz.pitches(clean=1)\n",
    "# grab events\n",
    "bz_events = bz.pitch_events()\n",
    "# grab games\n",
    "bz_games = bz.pitch_games()"
   ]
  },
  {
   "cell_type": "markdown",
   "metadata": {},
   "source": [
    "## Data preprocessing"
   ]
  },
  {
   "cell_type": "markdown",
   "metadata": {},
   "source": [
    "Feature selection can sometimes be more art than science. Here, I will prepare a subset of features that intuition suggests will help predict the type of pitch thrown. They are, loosely, the current ball-strike count, the handedness of the batter, and the baserunner situation. I will prepare these features one by one."
   ]
  },
  {
   "cell_type": "markdown",
   "metadata": {},
   "source": [
    "### Ball-strike count"
   ]
  },
  {
   "cell_type": "markdown",
   "metadata": {},
   "source": [
    "Pitchers will likely pitch differently depending on the ball-strike count. For instance, if the count is 0-2 (0 balls, 2 strikes), a pitcher can throw any pitch because he knows he has 3 more tries to get the batter out. On the other hand, if the count is 3-0 (3 balls, 0 strikes), a pitcher will likely throw a pitch he trusts most in terms of command (often a fastball) because the pitcher will oftentimes want to avoid walking the batter."
   ]
  },
  {
   "cell_type": "markdown",
   "metadata": {},
   "source": [
    "In terms of how to represent the count as a feature, there are a couple of options: treat the number of balls and the number of strikes independently, or treat each count as its own category. For now, I will treat the number of balls and strikes as independent features because it requires less feature manipulation. Furthermore, I will keep their original values (0-3 for balls, 0-2 for strikes) rather than encode them, as the order of these numbers has meaning."
   ]
  },
  {
   "cell_type": "code",
   "execution_count": 4,
   "metadata": {
    "collapsed": false
   },
   "outputs": [
    {
     "name": "stdout",
     "output_type": "stream",
     "text": [
      "number of data points:  3079\n"
     ]
    }
   ],
   "source": [
    "# create first feature\n",
    "features = bz_pitches[[\"pre_balls\", \"pre_strike\"]].reset_index(drop=True)\n",
    "\n",
    "# print length of vector\n",
    "print(\"number of data points: \", features.shape[0])"
   ]
  },
  {
   "cell_type": "markdown",
   "metadata": {},
   "source": [
    "### Handedness of batter"
   ]
  },
  {
   "cell_type": "markdown",
   "metadata": {},
   "source": [
    "The next pitch is also likely influenced by the handedness of the batter. For example, certain pitches are more effective when the pitcher handedness and batter handedness match (such as a breaking ball), and are thus more likely to be thrown."
   ]
  },
  {
   "cell_type": "markdown",
   "metadata": {},
   "source": [
    "To get the handedness of the batter for each pitch, I'll need to join the *pitchfx* table with both the *events* table (to tie the pitch to a batter id) and the *players* table (to tie the batter id to the batter handedness). I will do this all in pandas, which requires me to import the *players* table as a pandas dataframe."
   ]
  },
  {
   "cell_type": "code",
   "execution_count": 5,
   "metadata": {
    "collapsed": true
   },
   "outputs": [],
   "source": [
    "# save players table as pandas data frame\n",
    "query = \"\"\"SELECT *\n",
    "        FROM players\n",
    "        \"\"\"\n",
    "players = pd.read_sql_query(query, db)"
   ]
  },
  {
   "cell_type": "markdown",
   "metadata": {},
   "source": [
    "I'll perform a sequence of left joins. I'll join the *events* table first to the pitches in order to get the batter information. I will then join that resulting table to the *players* table in order to get the batter handedness. Note that I will only add the columns I need (*player_id* and *bats*) and will need to drop the duplicate player information before joining the tables since the same player will have multiple entries if he plays multiple positions."
   ]
  },
  {
   "cell_type": "code",
   "execution_count": 6,
   "metadata": {
    "collapsed": false
   },
   "outputs": [
    {
     "name": "stdout",
     "output_type": "stream",
     "text": [
      "number of data points:  3079\n"
     ]
    }
   ],
   "source": [
    "# merge tables to get the batter handedness for each pitch\n",
    "handedness = bz_pitches.merge(bz_events[['game_id', 'event_id', 'batter_id']],\n",
    "                              left_on=['game_id', 'cur_event'],\n",
    "                              right_on=['game_id', 'event_id'],\n",
    "                              how='left') \\\n",
    "                       .merge(players[['player_id', 'bats']].drop_duplicates(),\n",
    "                              left_on='batter_id',\n",
    "                              right_on='player_id',\n",
    "                              how='left') \\\n",
    "                       .sort_values(by=['game_id', 'cur_event'])['bats']\n",
    "        \n",
    "# print length of vector\n",
    "print(\"number of data points: \", handedness.shape[0])"
   ]
  },
  {
   "cell_type": "markdown",
   "metadata": {},
   "source": [
    "There are three different batter handednesses: left, right, and switch. Typically, switch hitters bat with the opposite hand of the pitcher. Therefore, because Zito throws with his left hand, I will change all switch hitters to bat right-handed here."
   ]
  },
  {
   "cell_type": "markdown",
   "metadata": {},
   "source": [
    "#### Aside: encoding categorical features"
   ]
  },
  {
   "cell_type": "markdown",
   "metadata": {},
   "source": [
    "*sklearn* assumes all inputs are numerical and continuous. Therefore, I need to choose a method to convert categorical variables to numerical variables. In general, there are a number of possible approaches, including:\n",
    "\n",
    "1) numerical encoding (each category is associated with an integer). Pros: simple to implement. Cons: assumes that integers are ordered, and therefore that categories are somehow ordered (which is not always the case).\n",
    "\n",
    "2) one-hot encoding (each category is effectively a vector of length (number of categories) with zeros everywhere but one entry corresponding to the category). Pros: many methods in *sklearn* and *pandas* can implement this; effectively turns each category into an almost-binary value; shown to have better performance than numerical encoding. Cons: can increase feature space significantly if variable has a lot of categories; with decision trees, resulting sparsity virtually ensures that continuous variables are assigned higher feature importance; features with more categories are favored.\n",
    "\n",
    "3) binary encoding (take numerical encoding and express values in binary). Pros: fewer added features than one-hot encoding; good performance like one-hot encoding. Cons: less straight forward to implement.\n",
    "\n",
    "Since handedness is binary (left or right), I convert the strings into 0 (left) and 1 (right). In some ways this is like one-hot or binary encoding, but requiring only (number of categories)-1 features since if one value is known the other can be inferred."
   ]
  },
  {
   "cell_type": "code",
   "execution_count": 7,
   "metadata": {
    "collapsed": false
   },
   "outputs": [
    {
     "name": "stdout",
     "output_type": "stream",
     "text": [
      "unique batter handednesses:  ['L' 'R' 'S']\n",
      "new unique batter handednesses:  ['R' 'L']\n"
     ]
    }
   ],
   "source": [
    "# print unique entries of batter handedness\n",
    "print(\"unique batter handednesses: \", players['bats'].unique())\n",
    "\n",
    "# update switch hitters in batter handedness based on pitcher's throwing hand\n",
    "pthrows = bz.info()['throws'].unique()[0]\n",
    "if pthrows=='L':\n",
    "    handedness[handedness=='S'] = 'R'\n",
    "else:\n",
    "    handedness[handedness=='S'] = 'L'\n",
    "print(\"new unique batter handednesses: \", handedness.unique())\n",
    "\n",
    "# convert to binary\n",
    "handedness[handedness=='L'] = 0\n",
    "handedness[handedness=='R'] = 1"
   ]
  },
  {
   "cell_type": "code",
   "execution_count": 8,
   "metadata": {
    "collapsed": true
   },
   "outputs": [],
   "source": [
    "# add handedness of batter to features (0: left, 1: right)\n",
    "features['bats'] = handedness"
   ]
  },
  {
   "cell_type": "markdown",
   "metadata": {},
   "source": [
    "### Baserunner situation"
   ]
  },
  {
   "cell_type": "markdown",
   "metadata": {},
   "source": [
    "Having baserunners on base can influence the type of pitch thrown. For instance, if there is a runner on first, a pitcher might be more inclined to throw a pitch with downward movement to induce a grounder for a double play."
   ]
  },
  {
   "cell_type": "markdown",
   "metadata": {},
   "source": [
    "To represent the baserunning situation, there are a few options. One is to treat each base independently (in other words, have one feature for each base (first, second, third) that is 1 when there is a runner and 0 when there is no runner). Another is to treat each baserunner combination as its own category. Another is to create a feature there higher values indicate more runners on base closer to home (in other words, sum the runners on base where first has weight 1, second has weight 2, and third has weight 4). I will initially list each base independently, tying the *event* table to each pitch."
   ]
  },
  {
   "cell_type": "code",
   "execution_count": 9,
   "metadata": {
    "collapsed": true
   },
   "outputs": [],
   "source": [
    "# get baserunners for each pitch\n",
    "runners = bz_pitches.merge(bz_events,\n",
    "                           left_on=['game_id', 'cur_event'],\n",
    "                           right_on=['game_id', 'event_id'],\n",
    "                           how='left')[['pre_1b', 'pre_2b', 'pre_3b']]\n",
    "\n",
    "# convert runners to binary\n",
    "runners[runners>0] = 1"
   ]
  },
  {
   "cell_type": "code",
   "execution_count": 10,
   "metadata": {
    "collapsed": true
   },
   "outputs": [],
   "source": [
    "# append runners to dataframe\n",
    "features = pd.concat([features, runners], axis=1)"
   ]
  },
  {
   "cell_type": "markdown",
   "metadata": {},
   "source": [
    "### Pitch trajectory responses"
   ]
  },
  {
   "cell_type": "markdown",
   "metadata": {},
   "source": [
    "I will try to predict starting velocity, horizontal acceleration, and vertical acceleration. These values are already in the *pitchfx* database."
   ]
  },
  {
   "cell_type": "code",
   "execution_count": 11,
   "metadata": {
    "collapsed": true
   },
   "outputs": [],
   "source": [
    "# create response variable\n",
    "response = bz_pitches[[\"start_speed\", \"ax\", \"az\"]].reset_index(drop=True)"
   ]
  },
  {
   "cell_type": "markdown",
   "metadata": {},
   "source": [
    "## Random forest with basic features"
   ]
  },
  {
   "cell_type": "markdown",
   "metadata": {},
   "source": [
    "Random forest is a popular ensemble method that averages the results from a number of decision trees grown from bootstrapped data. Here, I will use a random forest regression (rather than classifier) because I want to fit continuous values of velocity and accelerations."
   ]
  },
  {
   "cell_type": "markdown",
   "metadata": {},
   "source": [
    "### Training and test data split"
   ]
  },
  {
   "cell_type": "markdown",
   "metadata": {},
   "source": [
    "The first step is to divide the dataset into a training set and a test set. Here, I will start by taking randomly taking 80% of the data to be the training set and the remaining 20% of the data to be the test set. For validating my model, I will look to examine the out-of-bag error, which corresponds to the data points not used when bootstrapping in random forest."
   ]
  },
  {
   "cell_type": "code",
   "execution_count": 12,
   "metadata": {
    "collapsed": true
   },
   "outputs": [],
   "source": [
    "def split_data(X, y, percent_train, random_seed):\n",
    "    \"\"\"Split data into training and test sets\n",
    "    \n",
    "    Inputs:\n",
    "        X: features numpy or pandas array (n_observations, n_features)\n",
    "        y: response numpy or pandas array (n_observations, n_responses)\n",
    "        percent_train: percent of observations taken to be the training set\n",
    "        random_seed: seed for random selection of training observations\n",
    "        \n",
    "    Outputs:\n",
    "        X_train: training features numpy or pandas array (percent_train*n_observations, n_features)\n",
    "        X_test: test features numpy or pandas array ((1-percent_train*n_observations), n_features)\n",
    "        y_train: training response or pandas numpy array (percent_train*n_observations, n_responses)\n",
    "        y_test: test features numpy or pandas array ((1-percent_train*n_observations), n_responses)\n",
    "        \n",
    "    Notes:\n",
    "        - data type in is the same as data type out\n",
    "    \"\"\"\n",
    "    # check that X and y are same lengths\n",
    "    if X.shape[0]!=y.shape[0]:\n",
    "        print(\"Lengths of features and responses do no match\")\n",
    "        return\n",
    "    \n",
    "    # set parameters\n",
    "    np.random.seed(random_seed)\n",
    "    ndata = X.shape[0]\n",
    "    rand_indices = np.random.choice([True, False], size=ndata, p=[percent_train, 1-percent_train])\n",
    "    \n",
    "    # get data\n",
    "    try:\n",
    "        X_train = X[rand_indices, :]\n",
    "        X_test = X[~rand_indices, :]\n",
    "        y_train = y[rand_indices, :]\n",
    "        y_test = y[~rand_indices, :]\n",
    "    except:\n",
    "        X_train = X.iloc[rand_indices, :]\n",
    "        X_test = X.iloc[~rand_indices, :]\n",
    "        y_train = y.iloc[rand_indices, :]\n",
    "        y_test = y.iloc[~rand_indices, :]\n",
    "    \n",
    "    # clean up\n",
    "    return X_train, X_test, y_train, y_test"
   ]
  },
  {
   "cell_type": "code",
   "execution_count": 13,
   "metadata": {
    "collapsed": false
   },
   "outputs": [],
   "source": [
    "# split data into training and test datasets\n",
    "X_train, X_test, y_train, y_test = split_data(features, response, 0.7, 0)"
   ]
  },
  {
   "cell_type": "markdown",
   "metadata": {},
   "source": [
    "### Random forest multi-label output approach"
   ]
  },
  {
   "cell_type": "markdown",
   "metadata": {},
   "source": [
    "There are two general approaches to the multi-label regression output. One is to assume that all three categories to be predicted are independent of each other. In other words, the features being predicted are uncorrelated with each other. Another approach is to assume that the categories are correlated with each other."
   ]
  },
  {
   "cell_type": "markdown",
   "metadata": {},
   "source": [
    "#### Independent responses"
   ]
  },
  {
   "cell_type": "markdown",
   "metadata": {},
   "source": [
    "I will focus on the former assumption for now, as that is what *sklearn*'s multi-label random forest regressor implements. "
   ]
  },
  {
   "cell_type": "code",
   "execution_count": 14,
   "metadata": {
    "collapsed": false
   },
   "outputs": [],
   "source": [
    "# imports\n",
    "from sklearn.ensemble import RandomForestRegressor\n",
    "\n",
    "# initialize random forest regressor\n",
    "rf1 = RandomForestRegressor(n_estimators=500,\n",
    "                            criterion='mse',\n",
    "                            max_features='sqrt',\n",
    "                            oob_score=True,\n",
    "                            random_state=0).fit(X_train, y_train)\n",
    "y_pred1 = rf1.predict(X_test)"
   ]
  },
  {
   "cell_type": "markdown",
   "metadata": {},
   "source": [
    "Now I can compute the RMSE for each of the features being predicted."
   ]
  },
  {
   "cell_type": "code",
   "execution_count": 15,
   "metadata": {
    "collapsed": true
   },
   "outputs": [],
   "source": [
    "# calculate rmse\n",
    "def rmse(y, y_pred):\n",
    "    \"\"\"Calculate root-mean-square error\n",
    "    \n",
    "    Inputs:\n",
    "        y: actual values\n",
    "        y_pred: predicted values (if 1d, then assumed to be constants for each column)\n",
    "        \n",
    "    Outputs:\n",
    "        rmse: root-mean-squared error\n",
    "    \"\"\"\n",
    "    # calculate rmse\n",
    "    rmse = np.sqrt( np.mean( (y-y_pred)**2))\n",
    "    \n",
    "    # clean up\n",
    "    return rmse"
   ]
  },
  {
   "cell_type": "code",
   "execution_count": 16,
   "metadata": {
    "collapsed": false
   },
   "outputs": [
    {
     "name": "stdout",
     "output_type": "stream",
     "text": [
      "oob errors: \n",
      " start_speed     5.883723\n",
      "ax              6.299684\n",
      "az             10.006826\n",
      "dtype: float64\n",
      "\n",
      "\n",
      "test errors: \n",
      " start_speed     6.011512\n",
      "ax              6.368291\n",
      "az             10.222351\n",
      "dtype: float64\n"
     ]
    }
   ],
   "source": [
    "# oob error (like validation set error)\n",
    "print(\"oob errors: \\n\", rmse(y_train, rf1.oob_prediction_))\n",
    "print(\"\\n\")\n",
    "# test error\n",
    "print(\"test errors: \\n\", rmse(y_test, y_pred1))"
   ]
  },
  {
   "cell_type": "markdown",
   "metadata": {},
   "source": [
    "To provide context for these values, I'll calculate a baseline error from the mean of the training examples."
   ]
  },
  {
   "cell_type": "code",
   "execution_count": 17,
   "metadata": {
    "collapsed": false
   },
   "outputs": [
    {
     "name": "stdout",
     "output_type": "stream",
     "text": [
      "baseline training errors: \n",
      " start_speed     5.955868\n",
      "ax              6.488037\n",
      "az             10.192037\n",
      "dtype: float64\n",
      "\n",
      "\n",
      "baseline test errors: \n",
      " start_speed     6.121702\n",
      "ax              6.586006\n",
      "az             10.504501\n",
      "dtype: float64\n"
     ]
    }
   ],
   "source": [
    "# means from training data\n",
    "y_means = np.mean(y_train)\n",
    "    \n",
    "# baseline error\n",
    "print(\"baseline training errors: \\n\", rmse(y_train, y_means))\n",
    "print(\"\\n\")\n",
    "print(\"baseline test errors: \\n\", rmse(y_test, y_means))"
   ]
  },
  {
   "cell_type": "markdown",
   "metadata": {},
   "source": [
    "Therefore, the model is leading to less error than when guessing the mean value for each feature. However, it is difficult to get a sense if the model performing well just by chance. Therefore, I'll look at histograms of the residuals for both the training and the test sets."
   ]
  },
  {
   "cell_type": "code",
   "execution_count": 18,
   "metadata": {
    "collapsed": false
   },
   "outputs": [
    {
     "data": {
      "image/png": "[encoded data removed]",
      "text/plain": [
       "<matplotlib.figure.Figure at 0x7f51fa427320>"
      ]
     },
     "metadata": {},
     "output_type": "display_data"
    }
   ],
   "source": [
    "# histograms\n",
    "diff_train = rf1.oob_prediction_-y_train\n",
    "fig, ax = plt.subplots(1, 3, figsize=(16, 4))\n",
    "nbins = 10\n",
    "\n",
    "diff_train['start_speed'].plot.hist(bins=nbins, ax=ax[0])\n",
    "ax[0].set_xlabel(\"Starting velocity (mph)\")\n",
    "\n",
    "diff_train['ax'].plot.hist(bins=nbins, ax=ax[1])\n",
    "ax[1].set_xlabel(\"Horizontal acceleration (ft/s2)\")\n",
    "\n",
    "diff_train['az'].plot.hist(bins=nbins, ax=ax[2])\n",
    "ax[2].set_xlabel(\"Vertical acceleration (ft/s2)\")\n",
    "\n",
    "plt.show()"
   ]
  },
  {
   "cell_type": "code",
   "execution_count": 19,
   "metadata": {
    "collapsed": false,
    "scrolled": false
   },
   "outputs": [
    {
     "data": {
      "image/png": "[encoded data removed]",
      "text/plain": [
       "<matplotlib.figure.Figure at 0x7f51fa427208>"
      ]
     },
     "metadata": {},
     "output_type": "display_data"
    }
   ],
   "source": [
    "# histograms\n",
    "diff_test = y_pred1-y_test\n",
    "fig, ax = plt.subplots(1, 3, figsize=(16, 4))\n",
    "nbins = 10\n",
    "\n",
    "diff_test['start_speed'].plot.hist(bins=nbins, ax=ax[0])\n",
    "ax[0].set_xlabel(\"Starting velocity (mph)\")\n",
    "\n",
    "diff_test['ax'].plot.hist(bins=nbins, ax=ax[1])\n",
    "ax[1].set_xlabel(\"Horizontal acceleration (ft/s2)\")\n",
    "\n",
    "diff_test['az'].plot.hist(bins=nbins, ax=ax[2])\n",
    "ax[2].set_xlabel(\"Vertical acceleration (ft/s2)\")\n",
    "\n",
    "plt.show()"
   ]
  },
  {
   "cell_type": "markdown",
   "metadata": {},
   "source": [
    "From these histograms of the residuals, it seems that none of the features are a centered at zero residual. This suggests that the model is generally underpredicting the velocity and accelerations."
   ]
  },
  {
   "cell_type": "markdown",
   "metadata": {},
   "source": [
    "### Adding more features"
   ]
  },
  {
   "cell_type": "markdown",
   "metadata": {},
   "source": [
    "Begin by adding more information about the game situation, including the innning, numer of outs, whether pitching at home or away, and score differential at the time of the pitch."
   ]
  },
  {
   "cell_type": "code",
   "execution_count": 20,
   "metadata": {
    "collapsed": false
   },
   "outputs": [],
   "source": [
    "# copy new features\n",
    "features2 = features.copy()\n",
    "\n",
    "# get game event info\n",
    "extras = bz_pitches.merge(bz_events,\n",
    "                          left_on=['game_id', 'cur_event'],\n",
    "                          right_on=['game_id', 'event_id'],\n",
    "                          how='left')\n",
    "\n",
    "# innings\n",
    "features2['inning'] = extras['inning']\n",
    "\n",
    "# number of outs\n",
    "features2['outs'] = extras['pre_out']\n",
    "\n",
    "# score differential\n",
    "score_diff = extras['pre_away_score']-extras['pre_home_score']\n",
    "score_diff[extras['is_top_inning']==True] = -score_diff[extras['is_top_inning']==True]\n",
    "features2['score_diff'] = score_diff\n",
    "features2['home'] = extras['is_top_inning']"
   ]
  },
  {
   "cell_type": "code",
   "execution_count": 21,
   "metadata": {
    "collapsed": true
   },
   "outputs": [],
   "source": [
    "# split data into training and test datasets\n",
    "X_train, X_test, y_train, y_test = split_data(features2, response, 0.7, 0)"
   ]
  },
  {
   "cell_type": "code",
   "execution_count": 22,
   "metadata": {
    "collapsed": false
   },
   "outputs": [],
   "source": [
    "# initialize random forest regressor\n",
    "rf2 = RandomForestRegressor(n_estimators=500,\n",
    "                            criterion='mse',\n",
    "                            max_features='sqrt',\n",
    "                            oob_score=True,\n",
    "                            random_state=0).fit(X_train, y_train)\n",
    "y_pred2 = rf2.predict(X_test)"
   ]
  },
  {
   "cell_type": "code",
   "execution_count": 23,
   "metadata": {
    "collapsed": false
   },
   "outputs": [
    {
     "name": "stdout",
     "output_type": "stream",
     "text": [
      "oob errors: \n",
      " start_speed     6.011143\n",
      "ax              6.135508\n",
      "az             10.353478\n",
      "dtype: float64\n",
      "\n",
      "\n",
      "test errors: \n",
      " start_speed     6.217851\n",
      "ax              6.139472\n",
      "az             10.545253\n",
      "dtype: float64\n"
     ]
    }
   ],
   "source": [
    "# oob error (like validation set error)\n",
    "print(\"oob errors: \\n\", rmse(y_train, rf2.oob_prediction_))\n",
    "print(\"\\n\")\n",
    "# test error\n",
    "print(\"test errors: \\n\", rmse(y_test, y_pred2))"
   ]
  },
  {
   "cell_type": "markdown",
   "metadata": {},
   "source": [
    "Results do no improve much.\n",
    "\n",
    "Next, I'll add more information about the trajectories and locations of the previous three pitches. For the first and second pitches, the previous pitches will be filled with the information from the current pitch. This effects only two pitches out of the entire training set."
   ]
  },
  {
   "cell_type": "code",
   "execution_count": 24,
   "metadata": {
    "collapsed": false
   },
   "outputs": [],
   "source": [
    "# copy\n",
    "features3 = features2.copy()\n",
    "\n",
    "# add previous pitches information\n",
    "prev = bz_pitches[['start_speed', 'ax', 'az', 'px', 'pz']].reset_index(drop=True).shift(1)\n",
    "prev.fillna(method='backfill', inplace=True)\n",
    "prev2 = bz_pitches[['start_speed', 'ax', 'az', 'px', 'pz']].reset_index(drop=True).shift(2)\n",
    "prev2.fillna(method='backfill', inplace=True)\n",
    "prev3 = bz_pitches[['start_speed', 'ax', 'az', 'px', 'pz']].reset_index(drop=True).shift(3)\n",
    "prev3.fillna(method='backfill', inplace=True)"
   ]
  },
  {
   "cell_type": "code",
   "execution_count": 25,
   "metadata": {
    "collapsed": false
   },
   "outputs": [],
   "source": [
    "# add to features\n",
    "features3['prev_start_speed'] = prev['start_speed']\n",
    "features3['prev_ax'] = prev['ax']\n",
    "features3['prev_az'] = prev['az']\n",
    "features3['prev_px'] = prev['px']\n",
    "features3['prev_pz'] = prev['pz']\n",
    "features3['prev2_start_speed'] = prev2['start_speed']\n",
    "features3['prev2_ax'] = prev2['ax']\n",
    "features3['prev2_az'] = prev2['az']\n",
    "features3['prev2_px'] = prev2['px']\n",
    "features3['prev2_pz'] = prev2['pz']\n",
    "features3['prev3_start_speed'] = prev3['start_speed']\n",
    "features3['prev3_ax'] = prev3['ax']\n",
    "features3['prev3_az'] = prev3['az']\n",
    "features3['prev3_px'] = prev3['px']\n",
    "features3['prev3_pz'] = prev3['pz']"
   ]
  },
  {
   "cell_type": "code",
   "execution_count": 26,
   "metadata": {
    "collapsed": false
   },
   "outputs": [],
   "source": [
    "# split data into training and test datasets\n",
    "X_train, X_test, y_train, y_test = split_data(features3, response, 0.7, 0)"
   ]
  },
  {
   "cell_type": "code",
   "execution_count": 27,
   "metadata": {
    "collapsed": false
   },
   "outputs": [],
   "source": [
    "# initialize random forest regressor\n",
    "rf3 = RandomForestRegressor(n_estimators=500,\n",
    "                            criterion='mse',\n",
    "                            max_features='sqrt',\n",
    "                            oob_score=True,\n",
    "                            random_state=0).fit(X_train, y_train)\n",
    "y_pred3 = rf3.predict(X_test)"
   ]
  },
  {
   "cell_type": "code",
   "execution_count": 28,
   "metadata": {
    "collapsed": false
   },
   "outputs": [
    {
     "name": "stdout",
     "output_type": "stream",
     "text": [
      "oob errors: \n",
      " start_speed    5.812228\n",
      "ax             5.728858\n",
      "az             9.787565\n",
      "dtype: float64\n",
      "\n",
      "\n",
      "test errors: \n",
      " start_speed    5.918277\n",
      "ax             5.746702\n",
      "az             9.963009\n",
      "dtype: float64\n"
     ]
    }
   ],
   "source": [
    "# oob error (like validation set error)\n",
    "print(\"oob errors: \\n\", rmse(y_train, rf3.oob_prediction_))\n",
    "print(\"\\n\")\n",
    "# test error\n",
    "print(\"test errors: \\n\", rmse(y_test, y_pred3))"
   ]
  },
  {
   "cell_type": "code",
   "execution_count": 29,
   "metadata": {
    "collapsed": false
   },
   "outputs": [
    {
     "data": {
      "image/png": "[encoded data removed]",
      "text/plain": [
       "<matplotlib.figure.Figure at 0x7f51f7972780>"
      ]
     },
     "metadata": {},
     "output_type": "display_data"
    }
   ],
   "source": [
    "# histograms\n",
    "diff_test = y_pred3-y_test\n",
    "fig, ax = plt.subplots(1, 3, figsize=(16, 4))\n",
    "nbins = 10\n",
    "\n",
    "diff_test['start_speed'].plot.hist(bins=nbins, ax=ax[0])\n",
    "ax[0].set_xlabel(\"Starting velocity (mph)\")\n",
    "\n",
    "diff_test['ax'].plot.hist(bins=nbins, ax=ax[1])\n",
    "ax[1].set_xlabel(\"Horizontal acceleration (ft/s2)\")\n",
    "\n",
    "diff_test['az'].plot.hist(bins=nbins, ax=ax[2])\n",
    "ax[2].set_xlabel(\"Vertical acceleration (ft/s2)\")\n",
    "\n",
    "plt.show()"
   ]
  },
  {
   "cell_type": "markdown",
   "metadata": {},
   "source": [
    "Results look a little better, as the RMSE has decreased a tiny bit."
   ]
  },
  {
   "cell_type": "markdown",
   "metadata": {},
   "source": [
    "Next I'll add information about the outcome of the previous pitch in terms of the description of the event. These descriptions are strings and will thus need to be encoded."
   ]
  },
  {
   "cell_type": "code",
   "execution_count": 30,
   "metadata": {
    "collapsed": false
   },
   "outputs": [
    {
     "name": "stdout",
     "output_type": "stream",
     "text": [
      "Ball                         1163\n",
      "Called Strike                 562\n",
      "Foul                          469\n",
      "In play, out(s)               363\n",
      "Swinging Strike               210\n",
      "In play, no out               130\n",
      "In play, run(s)                76\n",
      "Ball In Dirt                   40\n",
      "Foul Tip                       21\n",
      "Foul (Runner Going)            16\n",
      "Foul Bunt                      16\n",
      "Swinging Strike (Blocked)       8\n",
      "Hit By Pitch                    4\n",
      "Missed Bunt                     1\n",
      "Name: description, dtype: int64\n"
     ]
    }
   ],
   "source": [
    "# look at the descriptions\n",
    "print(bz_pitches['description'].value_counts())"
   ]
  },
  {
   "cell_type": "markdown",
   "metadata": {},
   "source": [
    "These descriptions have different amounts of detail. I'll try to group most of these together into fewer descriptions so that the feature importance is not biased by features with more categories."
   ]
  },
  {
   "cell_type": "code",
   "execution_count": 31,
   "metadata": {
    "collapsed": false
   },
   "outputs": [
    {
     "name": "stdout",
     "output_type": "stream",
     "text": [
      "Ball               1207\n",
      "Called Strike       562\n",
      "Foul                522\n",
      "In play, out(s)     363\n",
      "Swinging Strike     219\n",
      "In play, no out     206\n",
      "Name: description, dtype: int64\n"
     ]
    }
   ],
   "source": [
    "# find and replace descriptions into fewer categories\n",
    "descriptions = bz_pitches['description'].copy()\n",
    "descriptions.replace(to_replace='Ball In Dirt', value='Ball', inplace=True)\n",
    "descriptions.replace(to_replace='Foul Tip', value='Foul', inplace=True)\n",
    "descriptions.replace(to_replace='Foul (Runner Going)', value='Foul', inplace=True)\n",
    "descriptions.replace(to_replace='Foul Bunt', value='Foul', inplace=True)\n",
    "descriptions.replace(to_replace='Swinging Strike (Blocked)', value='Swinging Strike', inplace=True)\n",
    "descriptions.replace(to_replace='Hit By Pitch', value='Ball', inplace=True)\n",
    "descriptions.replace(to_replace='Missed Bunt', value='Swinging Strike', inplace=True)\n",
    "descriptions.replace(to_replace='In play, run(s)', value='In play, no out', inplace=True)\n",
    "print(descriptions.value_counts())"
   ]
  },
  {
   "cell_type": "markdown",
   "metadata": {},
   "source": [
    "Time to encode the features. I'll use one-hot encoding. Remember to skip the first event and fill all with zeros."
   ]
  },
  {
   "cell_type": "code",
   "execution_count": 32,
   "metadata": {
    "collapsed": false
   },
   "outputs": [],
   "source": [
    "# encoding via pandas\n",
    "desc = pd.get_dummies(data=descriptions, prefix='was').shift(1).reset_index(drop=True)\n",
    "desc.iloc[0, :] = 0 # to account for shift down\n",
    "\n",
    "# add to features\n",
    "features4 = pd.concat([features3, desc], axis=1)"
   ]
  },
  {
   "cell_type": "code",
   "execution_count": 33,
   "metadata": {
    "collapsed": false,
    "scrolled": false
   },
   "outputs": [],
   "source": [
    "# split data into training and test datasets\n",
    "X_train, X_test, y_train, y_test = split_data(features4, response, 0.7, 0)"
   ]
  },
  {
   "cell_type": "code",
   "execution_count": 34,
   "metadata": {
    "collapsed": true
   },
   "outputs": [],
   "source": [
    "# initialize random forest regressor\n",
    "rf4 = RandomForestRegressor(n_estimators=500,\n",
    "                            criterion='mse',\n",
    "                            max_features='sqrt',\n",
    "                            oob_score=True,\n",
    "                            random_state=0).fit(X_train, y_train)\n",
    "y_pred4 = rf4.predict(X_test)"
   ]
  },
  {
   "cell_type": "code",
   "execution_count": 35,
   "metadata": {
    "collapsed": false
   },
   "outputs": [
    {
     "name": "stdout",
     "output_type": "stream",
     "text": [
      "oob errors: \n",
      " start_speed    5.778171\n",
      "ax             5.712646\n",
      "az             9.724266\n",
      "dtype: float64\n",
      "\n",
      "\n",
      "test errors: \n",
      " start_speed    5.923026\n",
      "ax             5.720175\n",
      "az             9.966452\n",
      "dtype: float64\n"
     ]
    }
   ],
   "source": [
    "# oob error (like validation set error)\n",
    "print(\"oob errors: \\n\", rmse(y_train, rf4.oob_prediction_))\n",
    "print(\"\\n\")\n",
    "# test error\n",
    "print(\"test errors: \\n\", rmse(y_test, y_pred4))"
   ]
  },
  {
   "cell_type": "markdown",
   "metadata": {},
   "source": [
    "Not much improvement."
   ]
  },
  {
   "cell_type": "markdown",
   "metadata": {},
   "source": [
    "### Correlated responses"
   ]
  },
  {
   "cell_type": "markdown",
   "metadata": {},
   "source": [
    "Previously, I assumed that all pitches were independent (or uncorrelated). However, that is not necessarily the case, as there are certain combinations of velocity and accelerations that a pitcher's pitch will never have. Here I'll look into one idea where the responses are predicted in series, with the previous response becoming a feature for the current response being predicted."
   ]
  },
  {
   "cell_type": "code",
   "execution_count": 36,
   "metadata": {
    "collapsed": true
   },
   "outputs": [],
   "source": [
    "class MultiOutputRF():\n",
    "    \"\"\"Multi-output random forest\n",
    "    \n",
    "    Inputs are multi-dimensional as well as the outputs. Whereas sklearn's random forest \n",
    "    can handle multiple outputs, it effectively solves one regression per output value.\n",
    "    The approach here attempts to remove the assumption that all values of an output are\n",
    "    uncorrelated by solving for each output value in series, with the previous prediction\n",
    "    being used in the prediction of the next output value.\n",
    "    \"\"\"\n",
    "    def __init__(self, *args, **kwargs):\n",
    "        self.args = args\n",
    "        self.kwargs = kwargs\n",
    "        \n",
    "    def fit(self, X, y):\n",
    "        # determine number of values per output\n",
    "        n_predictions = y.shape[1]\n",
    "        \n",
    "        # perform regressions in series\n",
    "        self.rfs = []\n",
    "        for ii in range(n_predictions):\n",
    "            rf = RandomForestRegressor(*self.args, **self.kwargs)\n",
    "            Xi = np.hstack([X, y[:, :ii]])\n",
    "            yi = y[:, ii]\n",
    "            self.rfs.append(rf.fit(Xi, yi))\n",
    "        \n",
    "        # clean up\n",
    "        return self\n",
    "            \n",
    "    def predict(self, X):\n",
    "        # allocate output of (n_data, n_values_per_output)\n",
    "        y = np.empty([X.shape[0], len(self.rfs)])\n",
    "        \n",
    "        # predict outputs\n",
    "        for ii, rf in enumerate(self.rfs):\n",
    "            y[:, ii] = rf.predict(np.hstack([X, y[:, :ii]]))\n",
    "            \n",
    "        # clean up\n",
    "        return y"
   ]
  },
  {
   "cell_type": "code",
   "execution_count": 37,
   "metadata": {
    "collapsed": false
   },
   "outputs": [],
   "source": [
    "# fit model\n",
    "rf2 = MultiOutputRF(n_estimators=500,\n",
    "                    criterion='mse',\n",
    "                    max_features='sqrt',\n",
    "                    oob_score=True,\n",
    "                    random_state=0).fit(X_train.as_matrix(), y_train.as_matrix())\n",
    "y_pred2 = rf2.predict(X_test)"
   ]
  },
  {
   "cell_type": "code",
   "execution_count": 38,
   "metadata": {
    "collapsed": false
   },
   "outputs": [
    {
     "name": "stdout",
     "output_type": "stream",
     "text": [
      "test errors: \n",
      " start_speed     5.893279\n",
      "ax              6.248442\n",
      "az             10.335679\n",
      "dtype: float64\n"
     ]
    }
   ],
   "source": [
    "# test error\n",
    "print(\"test errors: \\n\", rmse(y_test, y_pred2))"
   ]
  },
  {
   "cell_type": "code",
   "execution_count": 39,
   "metadata": {
    "collapsed": false
   },
   "outputs": [
    {
     "data": {
      "image/png": "[encoded data removed]",
      "text/plain": [
       "<matplotlib.figure.Figure at 0x7f51f799c2e8>"
      ]
     },
     "metadata": {},
     "output_type": "display_data"
    }
   ],
   "source": [
    "# histograms\n",
    "diff_test = y_pred2-y_test\n",
    "fig, ax = plt.subplots(1, 3, figsize=(16, 4))\n",
    "nbins = 10\n",
    "\n",
    "diff_test['start_speed'].plot.hist(bins=nbins, ax=ax[0])\n",
    "ax[0].set_xlabel(\"Starting velocity (mph)\")\n",
    "\n",
    "diff_test['ax'].plot.hist(bins=nbins, ax=ax[1])\n",
    "ax[1].set_xlabel(\"Horizontal acceleration (ft/s2)\")\n",
    "\n",
    "diff_test['az'].plot.hist(bins=nbins, ax=ax[2])\n",
    "ax[2].set_xlabel(\"Vertical acceleration (ft/s2)\")\n",
    "\n",
    "plt.show()"
   ]
  }
 ],
 "metadata": {
  "kernelspec": {
   "display_name": "Python 3",
   "language": "python",
   "name": "python3"
  },
  "language_info": {
   "codemirror_mode": {
    "name": "ipython",
    "version": 3
   },
   "file_extension": ".py",
   "mimetype": "text/x-python",
   "name": "python",
   "nbconvert_exporter": "python",
   "pygments_lexer": "ipython3",
   "version": "3.5.2"
  }
 },
 "nbformat": 4,
 "nbformat_minor": 2
}
