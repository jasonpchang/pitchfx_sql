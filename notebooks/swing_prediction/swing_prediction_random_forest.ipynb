{
 "cells": [
  {
   "cell_type": "markdown",
   "metadata": {},
   "source": [
    "# Swing prediction: random forest"
   ]
  },
  {
   "cell_type": "markdown",
   "metadata": {},
   "source": [
    "Predicting when a batter is more likely to swing can be useful for a pitcher. For instance, it can be useful to determine how likely a batter will swing on a full count. If he is inclined to swing, then the batter could be suceptible to chasing pitches out of the strike zone. Here, I'll look to predict when a batter will swing the bat using features examined in the *swing_prediction_eda* notebook."
   ]
  },
  {
   "cell_type": "code",
   "execution_count": 1,
   "metadata": {
    "collapsed": false
   },
   "outputs": [
    {
     "name": "stderr",
     "output_type": "stream",
     "text": [
      "/opt/conda/lib/python3.5/site-packages/matplotlib/font_manager.py:273: UserWarning: Matplotlib is building the font cache using fc-list. This may take a moment.\n",
      "  warnings.warn('Matplotlib is building the font cache using fc-list. This may take a moment.')\n",
      "/opt/conda/lib/python3.5/site-packages/matplotlib/font_manager.py:273: UserWarning: Matplotlib is building the font cache using fc-list. This may take a moment.\n",
      "  warnings.warn('Matplotlib is building the font cache using fc-list. This may take a moment.')\n"
     ]
    }
   ],
   "source": [
    "# imports\n",
    "from IPython.display import display\n",
    "import matplotlib.pyplot as plt\n",
    "import numpy as np\n",
    "import pandas as pd\n",
    "import seaborn as sns\n",
    "import sqlite3\n",
    "import subprocess\n",
    "%matplotlib inline"
   ]
  },
  {
   "cell_type": "markdown",
   "metadata": {},
   "source": [
    "## Approach"
   ]
  },
  {
   "cell_type": "markdown",
   "metadata": {},
   "source": [
    "I'll focus on random forest for binary classification. I'll use features related to pitch trajectory/location and game situation, as examined in the *swing_prediction_eda* notebook. I'll focus on making a model for one player, specifically Jack Cust. The techniques examined here can be applied to other individual batters."
   ]
  },
  {
   "cell_type": "markdown",
   "metadata": {},
   "source": [
    "## Loading data and creating the response"
   ]
  },
  {
   "cell_type": "markdown",
   "metadata": {},
   "source": [
    "I'll start by loading information from where a given batter is hitting. For these tests, I'll start with Jack Cust, who was known for three things: hitting home runs, walks, and striking out. I'll create the response (swing or no swing) as well."
   ]
  },
  {
   "cell_type": "code",
   "execution_count": 2,
   "metadata": {
    "collapsed": true
   },
   "outputs": [],
   "source": [
    "# specify database name\n",
    "dbname = \"../../dat/pitchfx2008.db\"\n",
    "\n",
    "# connect to the sqlite3 database\n",
    "db = sqlite3.connect(dbname)\n",
    "hdb = db.cursor()"
   ]
  },
  {
   "cell_type": "code",
   "execution_count": 3,
   "metadata": {
    "collapsed": false
   },
   "outputs": [],
   "source": [
    "# import classes\n",
    "sys.path.append('../../src')\n",
    "from Player import Player\n",
    "\n",
    "# create player object\n",
    "jc = Player(\"Jack Cust\", db)\n",
    "\n",
    "# grab pitches\n",
    "jc_pitches = jc.pitches_against(clean=1).reset_index(drop=False)\n",
    "# grab events\n",
    "jc_events = jc.hit_events()\n",
    "# grab games\n",
    "jc_games = jc.hit_games()\n",
    "# grab player table\n",
    "query = \"\"\"SELECT *\n",
    "        FROM players\"\"\"\n",
    "players = pd.read_sql_query(query, db)"
   ]
  },
  {
   "cell_type": "code",
   "execution_count": 4,
   "metadata": {
    "collapsed": false
   },
   "outputs": [],
   "source": [
    "# list of swing outcomes\n",
    "swings = ['Swinging Strike',\n",
    "          'In play, out(s)',\n",
    "          'In play, no out',\n",
    "          'In play, run(s)',\n",
    "          'Foul',\n",
    "          'Foul Tip',\n",
    "          'Foul (Runner Going)',\n",
    "          'Swinging Strike (Blocked)']\n",
    "\n",
    "# create feature of swings in pitches\n",
    "jc_pitches['swing'] = np.array(list(map(lambda x: x in swings, jc_pitches['description'])))"
   ]
  },
  {
   "cell_type": "code",
   "execution_count": 5,
   "metadata": {
    "collapsed": false
   },
   "outputs": [
    {
     "name": "stdout",
     "output_type": "stream",
     "text": [
      "percentage of pitches swung at:  0.381352541016\n"
     ]
    }
   ],
   "source": [
    "# percentage of swings\n",
    "print(\"percentage of pitches swung at: \", np.mean(jc_pitches['swing']))"
   ]
  },
  {
   "cell_type": "markdown",
   "metadata": {},
   "source": [
    "Cust swings at less than half the pitches he sees. Specifically, he swings at 38% of the pitches he sees, which could be the baseline error rate for this problem."
   ]
  },
  {
   "cell_type": "markdown",
   "metadata": {},
   "source": [
    "## Feature engineering"
   ]
  },
  {
   "cell_type": "markdown",
   "metadata": {},
   "source": [
    "To create the initial feature matrix, I will include all columns of data from the dataset, organized by pitch. Thus, I'll need to join multiple tables related to games, events, players, and pitchfx."
   ]
  },
  {
   "cell_type": "code",
   "execution_count": 6,
   "metadata": {
    "collapsed": false
   },
   "outputs": [
    {
     "name": "stdout",
     "output_type": "stream",
     "text": [
      "Index(['index', 'game_id', 'pitch_num', 'at_bat', 'time', 'cur_event',\n",
      "       'description', 'outcome', 'pre_balls', 'post_balls', 'pre_strike',\n",
      "       'post_strike', 'start_speed', 'end_speed', 'sz_top', 'sz_bot', 'pfx_x',\n",
      "       'pfx_z', 'px', 'pz', 'x', 'y', 'x0', 'y0', 'z0', 'vx0', 'vy0', 'vz0',\n",
      "       'ax', 'ay', 'az', 'break_y', 'break_angle', 'break_length', 'spin_dir',\n",
      "       'spin_rate', 'pitch_type', 'swing', 'event_id', 'event_description',\n",
      "       'inning', 'is_top_inning', 'pre_out', 'post_out', 'pitcher_id',\n",
      "       'batter_id', 'pre_1b', 'post_1b', 'pre_2b', 'post_2b', 'pre_3b',\n",
      "       'post_3b', 'post_home', 'pre_home_score', 'post_home_score',\n",
      "       'pre_away_score', 'post_away_score', 'game_type', 'date', 'game_time',\n",
      "       'home_id', 'home_wins', 'home_losses', 'visit_id', 'visit_wins',\n",
      "       'visit_losses', 'stadium_id', 'umpire_home', 'umpire_first',\n",
      "       'umpire_second', 'umpire_third', 'player_id', 'throws'],\n",
      "      dtype='object')\n"
     ]
    }
   ],
   "source": [
    "# join four tables\n",
    "features = jc_pitches.merge(jc_events,\n",
    "                     left_on=['game_id', 'cur_event'],\n",
    "                     right_on=['game_id', 'event_id'],\n",
    "                     how='left',) \\\n",
    "              .merge(jc_games,\n",
    "                     left_on=['game_id'],\n",
    "                     right_on=['game_id'],\n",
    "                     how='left',) \\\n",
    "              .merge(players[['player_id', 'throws']].drop_duplicates(),\n",
    "                     left_on=['pitcher_id'],\n",
    "                     right_on=['player_id'],\n",
    "                     how='left',) \\\n",
    "              .sort_values(by=['game_id', 'cur_event'])\n",
    "\n",
    "# print column names\n",
    "print(features.columns)"
   ]
  },
  {
   "cell_type": "markdown",
   "metadata": {},
   "source": [
    "While there are many features, I am currently only interested in those related to pitch trajectory/location and game situation. There are a number of features that are very unlikely to help predict whether a batter swings at a pitch or not. For instance, any features related to bookkeeping could be dropped, such as game ids and event ids. Additionally, features related to future events relative to the situation in question (e.g., final score of the game) should be removed.\n",
    "\n",
    "There are also features that identify people/things that I will drop (such as umpire ids and stadium ids), as expressing these categorical variables through approaches like one-hot encoding can greatly increase the number of features. While this information could be useful, the sample sizes of each category of these features is likely small for each batter."
   ]
  },
  {
   "cell_type": "code",
   "execution_count": 7,
   "metadata": {
    "collapsed": false
   },
   "outputs": [],
   "source": [
    "# drop columns\n",
    "dropped_indices = ['index', 'game_id', 'cur_event', 'outcome', 'post_balls', 'post_strike', 'sz_top', 'sz_bot',\n",
    "                   'y0', 'event_id', 'description', 'event_description', 'post_1b', 'post_2b', 'post_3b', 'post_home',\n",
    "                   'post_home_score', 'post_away_score', 'game_type', 'game_time', 'home_id', 'visit_id', 'umpire_home',\n",
    "                   'umpire_first', 'umpire_second', 'umpire_third', 'player_id', 'post_out', 'batter_id', 'pitch_type',\n",
    "                   'date', 'stadium_id', 'home_wins', 'home_losses', 'visit_wins', 'visit_losses', 'pitcher_id',\n",
    "                   'at_bat', 'pitch_num']\n",
    "\n",
    "features = features.drop(dropped_indices, axis=1)"
   ]
  },
  {
   "cell_type": "markdown",
   "metadata": {},
   "source": [
    "I'll adjust pitcher handedness to be binary variable rather than a categorical swing variable, as *sklearn's* packages expect all columns to be numerical values."
   ]
  },
  {
   "cell_type": "code",
   "execution_count": 8,
   "metadata": {
    "collapsed": false
   },
   "outputs": [],
   "source": [
    "# pitcher handedness (0: left, 1: right)\n",
    "features['throws'].replace(['L', 'R'], [0, 1], inplace=True)"
   ]
  },
  {
   "cell_type": "markdown",
   "metadata": {},
   "source": [
    "In addition to these features, I'll engineer features that describe the previous pitch and the outcome. In addition to using the raw shifted pitch trajectory/location information, I will calculate the difference in those values relative to the current pitch; in other words, I will calculate the gradient. I will also include whether the batter swung at the previous pitch or not. Note this is trickier than just shifting the rows in our feature matrix down, as I had previously removed pitches that were Nans. As a result, a number of pitches are not actually in sequence (beside those that were from the previous at bat or even previous game). Therefore, I'll return to the original pitch information. Note I will fill in missing values with the mean of the values for that feature (or assume no swing for the swing feature)."
   ]
  },
  {
   "cell_type": "code",
   "execution_count": 9,
   "metadata": {
    "collapsed": false
   },
   "outputs": [],
   "source": [
    "# pitch information to calculate gradients of\n",
    "grad_f = ['start_speed', 'end_speed', 'pfx_x', 'pfx_z', 'px', 'pz', 'x', 'y', 'x0', 'z0', 'vx0',\n",
    "          'vy0', 'vz0', 'ax', 'ay', 'az', 'break_y', 'break_angle', 'break_length', 'spin_dir', 'spin_rate']\n",
    "for ff in grad_f:\n",
    "    features['grad_%s' %(ff)] = -features[ff].diff(1)\n",
    "for ff in grad_f:\n",
    "    features['prev_%s' %(ff)] = features[ff].shift(1)\n",
    "    \n",
    "# get previous pitch swing information\n",
    "features['prev_swing'] = features['swing'].shift(1)\n",
    "features['prev_swing'] = features['prev_swing'].fillna(False)\n",
    "    \n",
    "# impute nans with column means\n",
    "features = features.fillna(features.mean())"
   ]
  },
  {
   "cell_type": "markdown",
   "metadata": {},
   "source": [
    "I'll also include score differential and ball-strike count differential at the time of the pitch, even though they are linear combinations of existing features."
   ]
  },
  {
   "cell_type": "code",
   "execution_count": 10,
   "metadata": {
    "collapsed": false
   },
   "outputs": [],
   "source": [
    "# score differential (relative to batter's team)\n",
    "myteam = features['pre_home_score'].copy()\n",
    "myteam[features['is_top_inning']==True] = features[features['is_top_inning']==True]['pre_away_score']\n",
    "otherteam = features['pre_away_score'].copy()\n",
    "otherteam[features['is_top_inning']==True] = features[features['is_top_inning']==True]['pre_home_score']\n",
    "#score_diff = features['pre_home_score']-features['pre_away_score']\n",
    "#score_diff[features['is_top_inning']==True] = -score_diff[features['is_top_inning']==True]\n",
    "#features['score_diff'] = score_diff\n",
    "features['my_score'] = myteam\n",
    "features['other_score'] = otherteam\n",
    "features['score_diff'] = myteam-otherteam\n",
    "features = features.drop(['pre_home_score', 'pre_away_score'], axis=1)\n",
    "\n",
    "# ball-strike differential\n",
    "features['count_diff'] = features['pre_balls']-features['pre_strike']"
   ]
  },
  {
   "cell_type": "code",
   "execution_count": 11,
   "metadata": {
    "collapsed": false
   },
   "outputs": [
    {
     "name": "stdout",
     "output_type": "stream",
     "text": [
      "Index(['time', 'pre_balls', 'pre_strike', 'start_speed', 'end_speed', 'pfx_x',\n",
      "       'pfx_z', 'px', 'pz', 'x', 'y', 'x0', 'z0', 'vx0', 'vy0', 'vz0', 'ax',\n",
      "       'ay', 'az', 'break_y', 'break_angle', 'break_length', 'spin_dir',\n",
      "       'spin_rate', 'swing', 'inning', 'is_top_inning', 'pre_out', 'pre_1b',\n",
      "       'pre_2b', 'pre_3b', 'throws', 'grad_start_speed', 'grad_end_speed',\n",
      "       'grad_pfx_x', 'grad_pfx_z', 'grad_px', 'grad_pz', 'grad_x', 'grad_y',\n",
      "       'grad_x0', 'grad_z0', 'grad_vx0', 'grad_vy0', 'grad_vz0', 'grad_ax',\n",
      "       'grad_ay', 'grad_az', 'grad_break_y', 'grad_break_angle',\n",
      "       'grad_break_length', 'grad_spin_dir', 'grad_spin_rate',\n",
      "       'prev_start_speed', 'prev_end_speed', 'prev_pfx_x', 'prev_pfx_z',\n",
      "       'prev_px', 'prev_pz', 'prev_x', 'prev_y', 'prev_x0', 'prev_z0',\n",
      "       'prev_vx0', 'prev_vy0', 'prev_vz0', 'prev_ax', 'prev_ay', 'prev_az',\n",
      "       'prev_break_y', 'prev_break_angle', 'prev_break_length',\n",
      "       'prev_spin_dir', 'prev_spin_rate', 'prev_swing', 'my_score',\n",
      "       'other_score', 'score_diff', 'count_diff'],\n",
      "      dtype='object')\n"
     ]
    }
   ],
   "source": [
    "# print column names\n",
    "print(features.columns)"
   ]
  },
  {
   "cell_type": "markdown",
   "metadata": {},
   "source": [
    "I will use these features, which are representative of game situation, current pitch trajectory/location, and previous pitch trajectory/location, for my models."
   ]
  },
  {
   "cell_type": "markdown",
   "metadata": {},
   "source": [
    "## Random forest"
   ]
  },
  {
   "cell_type": "markdown",
   "metadata": {},
   "source": [
    "Random forest has the advantages that it can display both low bias and low variance if results from a large number of decision trees are averaged. Additionally, random forest has a track record of good performance, can handle both regression and classification problems, and can also rank features based on influence on the response. Some drawbacks are that this approach can take up a lot of memory if the size of the dataset and the number of trees is large, and the forests themselves are a bit of a black box in terms of interpretability."
   ]
  },
  {
   "cell_type": "code",
   "execution_count": 12,
   "metadata": {
    "collapsed": true
   },
   "outputs": [],
   "source": [
    "# import\n",
    "import sys\n",
    "sys.path.append('../src')\n",
    "from split_data import split_data"
   ]
  },
  {
   "cell_type": "markdown",
   "metadata": {},
   "source": [
    "### All features"
   ]
  },
  {
   "cell_type": "markdown",
   "metadata": {},
   "source": [
    "I'll begin by using all features. The first step is to divide the dataset into a training set and a test set. Here, I will start by taking randomly taking 70% of the data to be the training set and the remaining 30% of the data to be the test set."
   ]
  },
  {
   "cell_type": "code",
   "execution_count": 13,
   "metadata": {
    "collapsed": false
   },
   "outputs": [],
   "source": [
    "# creating training and test sets\n",
    "y = features['swing'].astype('int')\n",
    "features = features.drop('swing', axis=1)\n",
    "X_train, X_test, y_train, y_test = split_data(features, y, 0.7, 0)"
   ]
  },
  {
   "cell_type": "markdown",
   "metadata": {},
   "source": [
    "I'll check the distribution of swings and not swings between the training and test sets to check if they're similar to the full training set. Note that these will also be the baseline errors (guessing a non-swing for every pitch)."
   ]
  },
  {
   "cell_type": "code",
   "execution_count": 14,
   "metadata": {
    "collapsed": false
   },
   "outputs": [
    {
     "name": "stdout",
     "output_type": "stream",
     "text": [
      "percentage of pitches swung at in training set:  0.383188405797\n",
      "percentage of pitches swung at in test set:  0.377260981912\n"
     ]
    }
   ],
   "source": [
    "# percentage of swings and not swings\n",
    "print(\"percentage of pitches swung at in training set: \", np.mean(y_train.values))\n",
    "print(\"percentage of pitches swung at in test set: \", np.mean(y_test.values))"
   ]
  },
  {
   "cell_type": "markdown",
   "metadata": {},
   "source": [
    "With the distribution of swings are similar between the two sets, I can perform random forest classification."
   ]
  },
  {
   "cell_type": "code",
   "execution_count": 15,
   "metadata": {
    "collapsed": false
   },
   "outputs": [],
   "source": [
    "# import\n",
    "from sklearn.ensemble import RandomForestClassifier\n",
    "\n",
    "# initialize parameters\n",
    "seed = 1000\n",
    "nestimators = 1000\n",
    "\n",
    "# initialize classifiers\n",
    "rf_fit = RandomForestClassifier(n_estimators=nestimators,\n",
    "                                criterion='gini',\n",
    "                                max_features='sqrt',\n",
    "                                random_state=seed,\n",
    "                                oob_score=True,).fit(X_train, y_train)"
   ]
  },
  {
   "cell_type": "markdown",
   "metadata": {},
   "source": [
    "For validating my model, I will look to examine the out-of-bag error, which is similar to cross-validation error. In random forest, a number of decision trees are built on bootstrapped data. Therefore, each tree is likely to leave out a subset of the training data. One can predict the reponse for each data point using results from trees where the data point was not used to build the tree (OOB). The final prediction for each data point is just the majority vote amongst total predictions (in the classification problem). I'll also provide the error on the test set."
   ]
  },
  {
   "cell_type": "code",
   "execution_count": 16,
   "metadata": {
    "collapsed": false
   },
   "outputs": [
    {
     "name": "stdout",
     "output_type": "stream",
     "text": [
      "out-of-bag error:  0.235362318841\n",
      "test error:  0.220930232558\n"
     ]
    }
   ],
   "source": [
    "# out-of-bag error\n",
    "print(\"out-of-bag error: \", 1-rf_fit.oob_score_)\n",
    "\n",
    "# test error\n",
    "print(\"test error: \", 1-np.mean(rf_fit.predict(X_test)==y_test))"
   ]
  },
  {
   "cell_type": "markdown",
   "metadata": {},
   "source": [
    "The errors are significantly lower than guessing a non-swing every pitch, which is a promising sign.\n",
    "\n",
    "I'll now take a look at the feature importance from the random forest model by adding up the total amount that the Gini index is decreased by splits over a given feature, averaged over all trees and normalized. I'll sort features by importance."
   ]
  },
  {
   "cell_type": "code",
   "execution_count": 17,
   "metadata": {
    "collapsed": false,
    "scrolled": true
   },
   "outputs": [
    {
     "data": {
      "image/png": "[encoded data removed]",
      "text/plain": [
       "<matplotlib.figure.Figure at 0x7f1ca2b6aba8>"
      ]
     },
     "metadata": {},
     "output_type": "display_data"
    }
   ],
   "source": [
    "# feature importance plot\n",
    "importance = pd.Series(rf_fit.feature_importances_,\n",
    "                       index=X_train.columns)\n",
    "indices = np.argsort(importance)[::-1]\n",
    "importance[indices].plot.bar(color='blue', width=0.25, figsize=(16, 4))\n",
    "plt.show()"
   ]
  },
  {
   "cell_type": "markdown",
   "metadata": {},
   "source": [
    "As expected, the pitch location in the strike zone is relatively important (`px`, `pz`, `x`, `y`), as most batters are more likely to swing when the pitch is in the zone. The initial velocity and the difference in pitch location relative to the previous at-bat appear to be the next most important features.\n",
    "\n",
    "Note that random forest feature importance is biased towards features with more values/levels. This is observed here, where many of the binary features appear to have the least importance.\n",
    "\n",
    "Overall, many features appear to have similar importance (outside of the pitch location and the initial velocities out of the pitcher's hand). Therefore, I'll look to remove some features to reduce noise in the data set step by step, which in turn may improve the model."
   ]
  },
  {
   "cell_type": "markdown",
   "metadata": {},
   "source": [
    "### Features with engineered features removed"
   ]
  },
  {
   "cell_type": "markdown",
   "metadata": {},
   "source": [
    "I'll begin by removing the raw previous pitch information (not the gradient from the previous pitches). The motivation for this is that it's not so much the actual pitch trajectory of the previous pitch that matters, but the relative difference in pitch trajectory between the previous pitch and the current pitch. Changing the hitter's eye could influence whether he swings the bat or not. Additionally, these were features that I engineered and could thus be noise in the model."
   ]
  },
  {
   "cell_type": "code",
   "execution_count": 18,
   "metadata": {
    "collapsed": false
   },
   "outputs": [],
   "source": [
    "# remove highly-correlated features\n",
    "prev_f = ['prev_px', 'prev_pz', 'prev_x0', 'prev_z0', 'prev_spin_rate', 'prev_spin_dir', 'prev_break_y',\n",
    "          'prev_ax', 'prev_az', 'prev_vz0', 'prev_vx0', 'prev_ay', 'prev_break_angle', 'prev_start_speed',\n",
    "          'prev_end_speed', 'prev_pfx_x', 'prev_pfx_z', 'prev_x', 'prev_y', 'prev_vy0', 'prev_break_length']\n",
    "X1 = features.drop(prev_f, axis=1)"
   ]
  },
  {
   "cell_type": "code",
   "execution_count": 19,
   "metadata": {
    "collapsed": true
   },
   "outputs": [],
   "source": [
    "# train test split\n",
    "X1_train, X1_test, y_train, y_test = split_data(X1, y, 0.7, 0)"
   ]
  },
  {
   "cell_type": "code",
   "execution_count": 20,
   "metadata": {
    "collapsed": true
   },
   "outputs": [],
   "source": [
    "# initialize parameters\n",
    "seed = 1000\n",
    "nestimators = 1000\n",
    "\n",
    "# initialize classifiers\n",
    "rf1_fit = RandomForestClassifier(n_estimators=nestimators,\n",
    "                                 criterion='gini',\n",
    "                                 max_features='sqrt',\n",
    "                                 random_state=seed,\n",
    "                                 oob_score=True,).fit(X1_train, y_train)"
   ]
  },
  {
   "cell_type": "code",
   "execution_count": 21,
   "metadata": {
    "collapsed": false,
    "scrolled": true
   },
   "outputs": [
    {
     "name": "stdout",
     "output_type": "stream",
     "text": [
      "out-of-bag error:  0.219710144928\n",
      "test error:  0.206718346253\n"
     ]
    }
   ],
   "source": [
    "# out-of-bag error\n",
    "print(\"out-of-bag error: \", 1-rf1_fit.oob_score_)\n",
    "\n",
    "# test error\n",
    "print(\"test error: \", 1-np.mean(rf1_fit.predict(X1_test)==y_test))"
   ]
  },
  {
   "cell_type": "markdown",
   "metadata": {},
   "source": [
    "Both the OOB and test errors have decreased compared to the models when using all features. Therefore, I will take the greedy approach and remove these features from the model without knowing whether they are actually important in later splits."
   ]
  },
  {
   "cell_type": "markdown",
   "metadata": {},
   "source": [
    "As a comparison, I will remove the gradient of pitch trajectory/location and calculate the training and test errors."
   ]
  },
  {
   "cell_type": "code",
   "execution_count": 22,
   "metadata": {
    "collapsed": false
   },
   "outputs": [],
   "source": [
    "# remove highly-correlated features\n",
    "grad_f = ['grad_px', 'grad_pz', 'grad_x0', 'grad_z0', 'grad_spin_rate', 'grad_spin_dir', 'grad_break_y',\n",
    "          'grad_ax', 'grad_az', 'grad_vz0', 'grad_vx0', 'grad_ay', 'grad_break_angle', 'grad_start_speed',\n",
    "          'grad_end_speed', 'grad_pfx_x', 'grad_pfx_z', 'grad_x', 'grad_y', 'grad_vy0', 'grad_break_length']\n",
    "Xtemp = features.drop(grad_f, axis=1)"
   ]
  },
  {
   "cell_type": "code",
   "execution_count": 23,
   "metadata": {
    "collapsed": false
   },
   "outputs": [],
   "source": [
    "# train test split\n",
    "Xtemp_train, Xtemp_test, y_train, y_test = split_data(Xtemp, y, 0.7, 0)"
   ]
  },
  {
   "cell_type": "code",
   "execution_count": 24,
   "metadata": {
    "collapsed": true
   },
   "outputs": [],
   "source": [
    "# initialize parameters\n",
    "seed = 1000\n",
    "nestimators = 1000\n",
    "\n",
    "# initialize classifiers\n",
    "rftemp_fit = RandomForestClassifier(n_estimators=nestimators,\n",
    "                                 criterion='gini',\n",
    "                                 max_features='sqrt',\n",
    "                                 random_state=seed,\n",
    "                                 oob_score=True,).fit(Xtemp_train, y_train)"
   ]
  },
  {
   "cell_type": "code",
   "execution_count": 25,
   "metadata": {
    "collapsed": false
   },
   "outputs": [
    {
     "name": "stdout",
     "output_type": "stream",
     "text": [
      "out-of-bag error:  0.232463768116\n",
      "test error:  0.22480620155\n"
     ]
    }
   ],
   "source": [
    "# out-of-bag error\n",
    "print(\"out-of-bag error: \", 1-rftemp_fit.oob_score_)\n",
    "\n",
    "# test error\n",
    "print(\"test error: \", 1-np.mean(rftemp_fit.predict(Xtemp_test)==y_test))"
   ]
  },
  {
   "cell_type": "markdown",
   "metadata": {},
   "source": [
    "Both the OOB and test errors are higher when removing the pitch gradient features than when removing the raw previous pitch values. Thus, I will keep the gradient with respect the previous pitch in the model."
   ]
  },
  {
   "cell_type": "markdown",
   "metadata": {},
   "source": [
    "For completeness, I will remove all engineered features and examine the training and test errors."
   ]
  },
  {
   "cell_type": "code",
   "execution_count": 26,
   "metadata": {
    "collapsed": true
   },
   "outputs": [],
   "source": [
    "# remove engineered features\n",
    "X2 = features.drop(grad_f, axis=1)\n",
    "X2 = Xtemp.drop(prev_f, axis=1)"
   ]
  },
  {
   "cell_type": "code",
   "execution_count": 27,
   "metadata": {
    "collapsed": false
   },
   "outputs": [],
   "source": [
    "# train test split\n",
    "X2_train, X2_test, y_train, y_test = split_data(X2, y, 0.7, 0)"
   ]
  },
  {
   "cell_type": "code",
   "execution_count": 28,
   "metadata": {
    "collapsed": true
   },
   "outputs": [],
   "source": [
    "# initialize parameters\n",
    "seed = 1000\n",
    "nestimators = 1000\n",
    "\n",
    "# initialize classifiers\n",
    "rf2_fit = RandomForestClassifier(n_estimators=nestimators,\n",
    "                                 criterion='gini',\n",
    "                                 max_features='sqrt',\n",
    "                                 random_state=seed,\n",
    "                                 oob_score=True,).fit(X2_train, y_train)"
   ]
  },
  {
   "cell_type": "code",
   "execution_count": 29,
   "metadata": {
    "collapsed": false
   },
   "outputs": [
    {
     "name": "stdout",
     "output_type": "stream",
     "text": [
      "out-of-bag error:  0.226666666667\n",
      "test error:  0.227390180879\n"
     ]
    }
   ],
   "source": [
    "# out-of-bag error\n",
    "print(\"out-of-bag error: \", 1-rf2_fit.oob_score_)\n",
    "\n",
    "# test error\n",
    "print(\"test error: \", 1-np.mean(rf2_fit.predict(X2_test)==y_test))"
   ]
  },
  {
   "cell_type": "markdown",
   "metadata": {},
   "source": [
    "The OOB and test errors are both higher than those when just removing the previous pitch information. Therefore, I will proceed with just removing the previous pitch information. "
   ]
  },
  {
   "cell_type": "markdown",
   "metadata": {},
   "source": [
    "### Features with highly-correlated variables removed"
   ]
  },
  {
   "cell_type": "markdown",
   "metadata": {},
   "source": [
    "From EDA, I found that many of the features where highly correlated. Therefore, I'll remove these highly-correlated features, which were identified primarily in the *eda* notebook."
   ]
  },
  {
   "cell_type": "code",
   "execution_count": 30,
   "metadata": {
    "collapsed": false
   },
   "outputs": [],
   "source": [
    "# remove highly-correlated features\n",
    "corr_f = ['x', 'grad_x', 'y', 'grad_y', 'end_speed', 'grad_end_speed',\n",
    "          'vy0', 'grad_vy0', 'pfx_x', 'grad_pfx_x', 'pfx_z',\n",
    "          'grad_pfx_z', 'break_length', 'grad_break_length']\n",
    "X3 = X1.drop(corr_f, axis=1)"
   ]
  },
  {
   "cell_type": "markdown",
   "metadata": {},
   "source": [
    "Now I'll split the test and training sets as before, being sure to use the same seed. Then I'll run the random forest classifier and estimate the errors."
   ]
  },
  {
   "cell_type": "code",
   "execution_count": 31,
   "metadata": {
    "collapsed": true
   },
   "outputs": [],
   "source": [
    "# train test split\n",
    "X3_train, X3_test, y_train, y_test = split_data(X3, y, 0.7, 0)"
   ]
  },
  {
   "cell_type": "code",
   "execution_count": 32,
   "metadata": {
    "collapsed": true
   },
   "outputs": [],
   "source": [
    "# initialize parameters\n",
    "seed = 1000\n",
    "nestimators = 1000\n",
    "\n",
    "# initialize classifiers\n",
    "rf3_fit = RandomForestClassifier(n_estimators=nestimators,\n",
    "                                 criterion='gini',\n",
    "                                 max_features='sqrt',\n",
    "                                 random_state=seed,\n",
    "                                 oob_score=True,).fit(X3_train, y_train)"
   ]
  },
  {
   "cell_type": "code",
   "execution_count": 33,
   "metadata": {
    "collapsed": false
   },
   "outputs": [
    {
     "name": "stdout",
     "output_type": "stream",
     "text": [
      "out-of-bag error:  0.228405797101\n",
      "test error:  0.220930232558\n"
     ]
    }
   ],
   "source": [
    "# out-of-bag error\n",
    "print(\"out-of-bag error: \", 1-rf3_fit.oob_score_)\n",
    "\n",
    "# test error\n",
    "print(\"test error: \", 1-np.mean(rf3_fit.predict(X3_test)==y_test))"
   ]
  },
  {
   "cell_type": "markdown",
   "metadata": {},
   "source": [
    "It appears that the OOB and test errors have both increased, though not by much. Therefore, I will not remove the highly-correlated features from the model at the moment."
   ]
  },
  {
   "cell_type": "markdown",
   "metadata": {},
   "source": [
    "### Features with least important features removed"
   ]
  },
  {
   "cell_type": "markdown",
   "metadata": {},
   "source": [
    "Finally, I will remove the least important features from the list of features with previous pitch information already removed. Though feature importance estimates from random forest are known to be biased depending on the number of categories the feature has, I will still remove the binary features and observed the training and test errors."
   ]
  },
  {
   "cell_type": "code",
   "execution_count": 34,
   "metadata": {
    "collapsed": true
   },
   "outputs": [],
   "source": [
    "# remove binary features\n",
    "least_f = ['throws', 'pre_1b', 'pre_2b', 'pre_3b', 'prev_swing', 'is_top_inning', 'break_y', 'grad_break_y',\n",
    "           'my_score', 'other_score', 'inning', 'pre_out', 'pre_strike', 'pre_balls']\n",
    "X4 = X1.drop(least_f, axis=1)"
   ]
  },
  {
   "cell_type": "code",
   "execution_count": 35,
   "metadata": {
    "collapsed": false
   },
   "outputs": [],
   "source": [
    "# train test split\n",
    "X4_train, X4_test, y_train, y_test = split_data(X4, y, 0.7, 0)"
   ]
  },
  {
   "cell_type": "code",
   "execution_count": 36,
   "metadata": {
    "collapsed": true
   },
   "outputs": [],
   "source": [
    "# initialize parameters\n",
    "seed = 1000\n",
    "nestimators = 1000\n",
    "\n",
    "# initialize classifiers\n",
    "rf4_fit = RandomForestClassifier(n_estimators=nestimators,\n",
    "                                 criterion='gini',\n",
    "                                 max_features='sqrt',\n",
    "                                 random_state=seed,\n",
    "                                 oob_score=True,).fit(X4_train, y_train)"
   ]
  },
  {
   "cell_type": "code",
   "execution_count": 37,
   "metadata": {
    "collapsed": false
   },
   "outputs": [
    {
     "name": "stdout",
     "output_type": "stream",
     "text": [
      "out-of-bag error:  0.235942028986\n",
      "test error:  0.21834625323\n"
     ]
    }
   ],
   "source": [
    "# out-of-bag error\n",
    "print(\"out-of-bag error: \", 1-rf4_fit.oob_score_)\n",
    "\n",
    "# test error\n",
    "print(\"test error: \", 1-np.mean(rf4_fit.predict(X4_test)==y_test))"
   ]
  },
  {
   "cell_type": "markdown",
   "metadata": {},
   "source": [
    "Both the OOB and test errors are higher than when just removing the previous pitch information. Therefore, there is evidence that suggests that these seemingly least important features should be left in the model."
   ]
  },
  {
   "cell_type": "markdown",
   "metadata": {},
   "source": [
    "### Just the two most important features"
   ]
  },
  {
   "cell_type": "code",
   "execution_count": null,
   "metadata": {
    "collapsed": true
   },
   "outputs": [],
   "source": [
    "X5 = "
   ]
  },
  {
   "cell_type": "markdown",
   "metadata": {},
   "source": [
    "## Random forest model evaluation"
   ]
  },
  {
   "cell_type": "markdown",
   "metadata": {},
   "source": [
    "To evaluate these random forest models on different subsets of features, I'll calculate their areas under the receiver operating characteristic (ROC) curves. These curves are plots of true positives vs false positives for different classification thresholds, and can be a good way to evaluate models when the distribution of binary outcomes is not highly skewed. Models with larger areas tend to have higher quality classification outputs. Note that these curves are calculated using the test data that were not used to build the models."
   ]
  },
  {
   "cell_type": "code",
   "execution_count": 38,
   "metadata": {
    "collapsed": false
   },
   "outputs": [
    {
     "data": {
      "image/png": "[encoded data removed]",
      "text/plain": [
       "<matplotlib.figure.Figure at 0x7f1ca05af898>"
      ]
     },
     "metadata": {},
     "output_type": "display_data"
    }
   ],
   "source": [
    "# import\n",
    "from sklearn.metrics import roc_curve\n",
    "\n",
    "# calculate false positive and true negative rates\n",
    "preds = [rf_fit.predict_proba(X_test)[:, 1],\n",
    "         rf1_fit.predict_proba(X1_test)[:, 1],\n",
    "         rf2_fit.predict_proba(X2_test)[:, 1],\n",
    "         rf3_fit.predict_proba(X3_test)[:, 1],\n",
    "         rf4_fit.predict_proba(X4_test)[:, 1],]\n",
    "dats = ['X', 'X1', 'X2', 'X3', 'X4']\n",
    "\n",
    "# plot curves\n",
    "fig, ax = plt.subplots()\n",
    "for pred in preds:\n",
    "    false_pos, true_pos, _ = roc_curve(y_test, pred)\n",
    "    ax.plot(false_pos, true_pos)\n",
    "ax.plot([0, 1], [0, 1])\n",
    "ax.legend(dats, loc=4)\n",
    "ax.set_aspect('equal', 'box')\n",
    "ax.set_xlabel('False positive')\n",
    "ax.set_ylabel('True positive')\n",
    "plt.show()"
   ]
  },
  {
   "cell_type": "code",
   "execution_count": 39,
   "metadata": {
    "collapsed": false
   },
   "outputs": [
    {
     "name": "stdout",
     "output_type": "stream",
     "text": [
      "Area under ROC curve:\n",
      "X : 0.85221039618\n",
      "X1 : 0.858690246121\n",
      "X2 : 0.855077303473\n",
      "X3 : 0.863930256352\n",
      "X4 : 0.856441482408\n"
     ]
    }
   ],
   "source": [
    "# import\n",
    "from sklearn.metrics import roc_auc_score\n",
    "\n",
    "# calculate area under roc curve\n",
    "print(\"Area under ROC curve:\")\n",
    "for ii in range(len(preds)):\n",
    "    print(dats[ii], \":\", roc_auc_score(y_test, preds[ii]))"
   ]
  },
  {
   "cell_type": "markdown",
   "metadata": {},
   "source": [
    "All models appear to have similar areas under the curve. However, the random forest model using data subset *X3* (removed previous pitch values and highly correlated variables) appears to perform the best. Therefore, I will use this subset of features when evaluating other classification models."
   ]
  },
  {
   "cell_type": "markdown",
   "metadata": {},
   "source": [
    "Finally, I'll look at the feature importance estimates from random forest on data subset *X3*."
   ]
  },
  {
   "cell_type": "code",
   "execution_count": 40,
   "metadata": {
    "collapsed": false
   },
   "outputs": [
    {
     "data": {
      "image/png": "[encoded data removed]",
      "text/plain": [
       "<matplotlib.figure.Figure at 0x7f1ca028a710>"
      ]
     },
     "metadata": {},
     "output_type": "display_data"
    }
   ],
   "source": [
    "# feature importance plot\n",
    "importance = pd.Series(rf3_fit.feature_importances_,\n",
    "                       index=X3_train.columns)\n",
    "indices = np.argsort(importance)[::-1]\n",
    "importance[indices].plot.bar(color='blue', width=0.25, figsize=(16, 4))\n",
    "plt.show()"
   ]
  },
  {
   "cell_type": "markdown",
   "metadata": {},
   "source": [
    "It appears that the two most important features to determining whether Cust will swing his bat are horizontal and vertical pitch location (`px`, `pz`). This is expected, as batters usually try to swing at pitches in the strike zone and not outside of it. Then, it appears that the vertical velocity of the ball out of the pitcher's hand (`vz0`) is the next most important feature, suggesting that vertical movement of a pitch could be a useful feature for swing prediction."
   ]
  },
  {
   "cell_type": "code",
   "execution_count": 41,
   "metadata": {
    "collapsed": true
   },
   "outputs": [],
   "source": [
    "# clean up\n",
    "hdb.close()"
   ]
  },
  {
   "cell_type": "markdown",
   "metadata": {},
   "source": [
    "## Final thoughts"
   ]
  },
  {
   "cell_type": "markdown",
   "metadata": {},
   "source": [
    "Random forest appears to perform much better than random guessing at predicting whether this particular batter will swing at a pitch or not. While feature selection here was based on a greedy approach evaluated on the OOB and test errors, the area under the ROC curves suggested that the subset of features where previous pitch information and highly correlated variables are removed produced the best model.\n",
    "\n",
    "However, the exact errors are subject to the exact split of the data into training and test sets, suggesting that the selected features should be taken with caution. Additionally, interpretability of the most important features should be taken with caution, given the bias from the random forest output toward features with more possible values. Note that it does make sense that pitch location is apparently the most important feature, though.\n",
    "\n",
    "Because the area under the ROC curves area are all similar, I will proceed with using the suggested subset of features here when fitting other models to the data."
   ]
  }
 ],
 "metadata": {
  "kernelspec": {
   "display_name": "Python 3",
   "language": "python",
   "name": "python3"
  },
  "language_info": {
   "codemirror_mode": {
    "name": "ipython",
    "version": 3
   },
   "file_extension": ".py",
   "mimetype": "text/x-python",
   "name": "python",
   "nbconvert_exporter": "python",
   "pygments_lexer": "ipython3",
   "version": "3.5.2"
  }
 },
 "nbformat": 4,
 "nbformat_minor": 2
}
